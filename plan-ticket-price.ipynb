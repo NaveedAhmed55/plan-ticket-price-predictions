{
 "cells": [
  {
   "cell_type": "code",
   "execution_count": 1,
   "id": "03f74941",
   "metadata": {
    "_cell_guid": "b1076dfc-b9ad-4769-8c92-a6c4dae69d19",
    "_uuid": "8f2839f25d086af736a60e9eeb907d3b93b6e0e5",
    "execution": {
     "iopub.execute_input": "2024-01-17T20:38:23.275532Z",
     "iopub.status.busy": "2024-01-17T20:38:23.275042Z",
     "iopub.status.idle": "2024-01-17T20:38:24.508954Z",
     "shell.execute_reply": "2024-01-17T20:38:24.508114Z"
    },
    "papermill": {
     "duration": 1.248161,
     "end_time": "2024-01-17T20:38:24.510816",
     "exception": false,
     "start_time": "2024-01-17T20:38:23.262655",
     "status": "completed"
    },
    "tags": []
   },
   "outputs": [
    {
     "name": "stdout",
     "output_type": "stream",
     "text": [
      "/kaggle/input/plane-ticket-price/Data_Train.xlsx\n"
     ]
    }
   ],
   "source": [
    "# This Python 3 environment comes with many helpful analytics libraries installed\n",
    "# It is defined by the kaggle/python Docker image: https://github.com/kaggle/docker-python\n",
    "# For example, here's several helpful packages to load\n",
    "\n",
    "import numpy as np # linear algebra\n",
    "import pandas as pd # data processing, CSV file I/O (e.g. pd.read_csv)\n",
    "import matplotlib.pyplot as plt\n",
    "import seaborn as sns\n",
    "%matplotlib inline\n",
    "\n",
    "# Input data files are available in the read-only \"../input/\" directory\n",
    "# For example, running this (by clicking run or pressing Shift+Enter) will list all files under the input directory\n",
    "\n",
    "import os\n",
    "for dirname, _, filenames in os.walk('/kaggle/input'):\n",
    "    for filename in filenames:\n",
    "        print(os.path.join(dirname, filename))\n",
    "\n",
    "# You can write up to 20GB to the current directory (/kaggle/working/) that gets preserved as output when you create a version using \"Save & Run All\" \n",
    "# You can also write temporary files to /kaggle/temp/, but they won't be saved outside of the current session"
   ]
  },
  {
   "cell_type": "code",
   "execution_count": 2,
   "id": "fb618250",
   "metadata": {
    "execution": {
     "iopub.execute_input": "2024-01-17T20:38:24.533770Z",
     "iopub.status.busy": "2024-01-17T20:38:24.533392Z",
     "iopub.status.idle": "2024-01-17T20:38:26.359069Z",
     "shell.execute_reply": "2024-01-17T20:38:26.358211Z"
    },
    "papermill": {
     "duration": 1.839036,
     "end_time": "2024-01-17T20:38:26.360952",
     "exception": false,
     "start_time": "2024-01-17T20:38:24.521916",
     "status": "completed"
    },
    "tags": []
   },
   "outputs": [
    {
     "data": {
      "text/html": [
       "<div>\n",
       "<style scoped>\n",
       "    .dataframe tbody tr th:only-of-type {\n",
       "        vertical-align: middle;\n",
       "    }\n",
       "\n",
       "    .dataframe tbody tr th {\n",
       "        vertical-align: top;\n",
       "    }\n",
       "\n",
       "    .dataframe thead th {\n",
       "        text-align: right;\n",
       "    }\n",
       "</style>\n",
       "<table border=\"1\" class=\"dataframe\">\n",
       "  <thead>\n",
       "    <tr style=\"text-align: right;\">\n",
       "      <th></th>\n",
       "      <th>Airline</th>\n",
       "      <th>Date_of_Journey</th>\n",
       "      <th>Source</th>\n",
       "      <th>Destination</th>\n",
       "      <th>Route</th>\n",
       "      <th>Dep_Time</th>\n",
       "      <th>Arrival_Time</th>\n",
       "      <th>Duration</th>\n",
       "      <th>Total_Stops</th>\n",
       "      <th>Additional_Info</th>\n",
       "      <th>Price</th>\n",
       "    </tr>\n",
       "  </thead>\n",
       "  <tbody>\n",
       "    <tr>\n",
       "      <th>0</th>\n",
       "      <td>IndiGo</td>\n",
       "      <td>24/03/2019</td>\n",
       "      <td>Banglore</td>\n",
       "      <td>New Delhi</td>\n",
       "      <td>BLR → DEL</td>\n",
       "      <td>22:20</td>\n",
       "      <td>01:10 22 Mar</td>\n",
       "      <td>2h 50m</td>\n",
       "      <td>non-stop</td>\n",
       "      <td>No info</td>\n",
       "      <td>3897</td>\n",
       "    </tr>\n",
       "    <tr>\n",
       "      <th>1</th>\n",
       "      <td>Air India</td>\n",
       "      <td>1/05/2019</td>\n",
       "      <td>Kolkata</td>\n",
       "      <td>Banglore</td>\n",
       "      <td>CCU → IXR → BBI → BLR</td>\n",
       "      <td>05:50</td>\n",
       "      <td>13:15</td>\n",
       "      <td>7h 25m</td>\n",
       "      <td>2 stops</td>\n",
       "      <td>No info</td>\n",
       "      <td>7662</td>\n",
       "    </tr>\n",
       "    <tr>\n",
       "      <th>2</th>\n",
       "      <td>Jet Airways</td>\n",
       "      <td>9/06/2019</td>\n",
       "      <td>Delhi</td>\n",
       "      <td>Cochin</td>\n",
       "      <td>DEL → LKO → BOM → COK</td>\n",
       "      <td>09:25</td>\n",
       "      <td>04:25 10 Jun</td>\n",
       "      <td>19h</td>\n",
       "      <td>2 stops</td>\n",
       "      <td>No info</td>\n",
       "      <td>13882</td>\n",
       "    </tr>\n",
       "    <tr>\n",
       "      <th>3</th>\n",
       "      <td>IndiGo</td>\n",
       "      <td>12/05/2019</td>\n",
       "      <td>Kolkata</td>\n",
       "      <td>Banglore</td>\n",
       "      <td>CCU → NAG → BLR</td>\n",
       "      <td>18:05</td>\n",
       "      <td>23:30</td>\n",
       "      <td>5h 25m</td>\n",
       "      <td>1 stop</td>\n",
       "      <td>No info</td>\n",
       "      <td>6218</td>\n",
       "    </tr>\n",
       "    <tr>\n",
       "      <th>4</th>\n",
       "      <td>IndiGo</td>\n",
       "      <td>01/03/2019</td>\n",
       "      <td>Banglore</td>\n",
       "      <td>New Delhi</td>\n",
       "      <td>BLR → NAG → DEL</td>\n",
       "      <td>16:50</td>\n",
       "      <td>21:35</td>\n",
       "      <td>4h 45m</td>\n",
       "      <td>1 stop</td>\n",
       "      <td>No info</td>\n",
       "      <td>13302</td>\n",
       "    </tr>\n",
       "  </tbody>\n",
       "</table>\n",
       "</div>"
      ],
      "text/plain": [
       "       Airline Date_of_Journey    Source Destination                  Route  \\\n",
       "0       IndiGo      24/03/2019  Banglore   New Delhi              BLR → DEL   \n",
       "1    Air India       1/05/2019   Kolkata    Banglore  CCU → IXR → BBI → BLR   \n",
       "2  Jet Airways       9/06/2019     Delhi      Cochin  DEL → LKO → BOM → COK   \n",
       "3       IndiGo      12/05/2019   Kolkata    Banglore        CCU → NAG → BLR   \n",
       "4       IndiGo      01/03/2019  Banglore   New Delhi        BLR → NAG → DEL   \n",
       "\n",
       "  Dep_Time  Arrival_Time Duration Total_Stops Additional_Info  Price  \n",
       "0    22:20  01:10 22 Mar   2h 50m    non-stop         No info   3897  \n",
       "1    05:50         13:15   7h 25m     2 stops         No info   7662  \n",
       "2    09:25  04:25 10 Jun      19h     2 stops         No info  13882  \n",
       "3    18:05         23:30   5h 25m      1 stop         No info   6218  \n",
       "4    16:50         21:35   4h 45m      1 stop         No info  13302  "
      ]
     },
     "execution_count": 2,
     "metadata": {},
     "output_type": "execute_result"
    }
   ],
   "source": [
    "#import dataset using pandas\n",
    "\n",
    "df=pd.read_excel('/kaggle/input/plane-ticket-price/Data_Train.xlsx')\n",
    "df.head()"
   ]
  },
  {
   "cell_type": "code",
   "execution_count": 3,
   "id": "6b7e055a",
   "metadata": {
    "execution": {
     "iopub.execute_input": "2024-01-17T20:38:26.384665Z",
     "iopub.status.busy": "2024-01-17T20:38:26.384183Z",
     "iopub.status.idle": "2024-01-17T20:38:27.793348Z",
     "shell.execute_reply": "2024-01-17T20:38:27.792446Z"
    },
    "papermill": {
     "duration": 1.42289,
     "end_time": "2024-01-17T20:38:27.795086",
     "exception": false,
     "start_time": "2024-01-17T20:38:26.372196",
     "status": "completed"
    },
    "tags": []
   },
   "outputs": [
    {
     "name": "stderr",
     "output_type": "stream",
     "text": [
      "/tmp/ipykernel_18/452380812.py:3: UserWarning: Parsing dates in %d/%m/%Y format when dayfirst=False (the default) was specified. Pass `dayfirst=True` or specify a format to silence this warning.\n",
      "  df=pd.read_excel('/kaggle/input/plane-ticket-price/Data_Train.xlsx', parse_dates=['Date_of_Journey'])\n"
     ]
    },
    {
     "data": {
      "text/html": [
       "<div>\n",
       "<style scoped>\n",
       "    .dataframe tbody tr th:only-of-type {\n",
       "        vertical-align: middle;\n",
       "    }\n",
       "\n",
       "    .dataframe tbody tr th {\n",
       "        vertical-align: top;\n",
       "    }\n",
       "\n",
       "    .dataframe thead th {\n",
       "        text-align: right;\n",
       "    }\n",
       "</style>\n",
       "<table border=\"1\" class=\"dataframe\">\n",
       "  <thead>\n",
       "    <tr style=\"text-align: right;\">\n",
       "      <th></th>\n",
       "      <th>Airline</th>\n",
       "      <th>Date_of_Journey</th>\n",
       "      <th>Source</th>\n",
       "      <th>Destination</th>\n",
       "      <th>Route</th>\n",
       "      <th>Dep_Time</th>\n",
       "      <th>Arrival_Time</th>\n",
       "      <th>Duration</th>\n",
       "      <th>Total_Stops</th>\n",
       "      <th>Additional_Info</th>\n",
       "      <th>Price</th>\n",
       "    </tr>\n",
       "  </thead>\n",
       "  <tbody>\n",
       "    <tr>\n",
       "      <th>0</th>\n",
       "      <td>IndiGo</td>\n",
       "      <td>2019-03-24</td>\n",
       "      <td>Banglore</td>\n",
       "      <td>New Delhi</td>\n",
       "      <td>BLR → DEL</td>\n",
       "      <td>22:20</td>\n",
       "      <td>01:10 22 Mar</td>\n",
       "      <td>2h 50m</td>\n",
       "      <td>non-stop</td>\n",
       "      <td>No info</td>\n",
       "      <td>3897</td>\n",
       "    </tr>\n",
       "    <tr>\n",
       "      <th>1</th>\n",
       "      <td>Air India</td>\n",
       "      <td>2019-05-01</td>\n",
       "      <td>Kolkata</td>\n",
       "      <td>Banglore</td>\n",
       "      <td>CCU → IXR → BBI → BLR</td>\n",
       "      <td>05:50</td>\n",
       "      <td>13:15</td>\n",
       "      <td>7h 25m</td>\n",
       "      <td>2 stops</td>\n",
       "      <td>No info</td>\n",
       "      <td>7662</td>\n",
       "    </tr>\n",
       "    <tr>\n",
       "      <th>2</th>\n",
       "      <td>Jet Airways</td>\n",
       "      <td>2019-06-09</td>\n",
       "      <td>Delhi</td>\n",
       "      <td>Cochin</td>\n",
       "      <td>DEL → LKO → BOM → COK</td>\n",
       "      <td>09:25</td>\n",
       "      <td>04:25 10 Jun</td>\n",
       "      <td>19h</td>\n",
       "      <td>2 stops</td>\n",
       "      <td>No info</td>\n",
       "      <td>13882</td>\n",
       "    </tr>\n",
       "    <tr>\n",
       "      <th>3</th>\n",
       "      <td>IndiGo</td>\n",
       "      <td>2019-05-12</td>\n",
       "      <td>Kolkata</td>\n",
       "      <td>Banglore</td>\n",
       "      <td>CCU → NAG → BLR</td>\n",
       "      <td>18:05</td>\n",
       "      <td>23:30</td>\n",
       "      <td>5h 25m</td>\n",
       "      <td>1 stop</td>\n",
       "      <td>No info</td>\n",
       "      <td>6218</td>\n",
       "    </tr>\n",
       "    <tr>\n",
       "      <th>4</th>\n",
       "      <td>IndiGo</td>\n",
       "      <td>2019-03-01</td>\n",
       "      <td>Banglore</td>\n",
       "      <td>New Delhi</td>\n",
       "      <td>BLR → NAG → DEL</td>\n",
       "      <td>16:50</td>\n",
       "      <td>21:35</td>\n",
       "      <td>4h 45m</td>\n",
       "      <td>1 stop</td>\n",
       "      <td>No info</td>\n",
       "      <td>13302</td>\n",
       "    </tr>\n",
       "  </tbody>\n",
       "</table>\n",
       "</div>"
      ],
      "text/plain": [
       "       Airline Date_of_Journey    Source Destination                  Route  \\\n",
       "0       IndiGo      2019-03-24  Banglore   New Delhi              BLR → DEL   \n",
       "1    Air India      2019-05-01   Kolkata    Banglore  CCU → IXR → BBI → BLR   \n",
       "2  Jet Airways      2019-06-09     Delhi      Cochin  DEL → LKO → BOM → COK   \n",
       "3       IndiGo      2019-05-12   Kolkata    Banglore        CCU → NAG → BLR   \n",
       "4       IndiGo      2019-03-01  Banglore   New Delhi        BLR → NAG → DEL   \n",
       "\n",
       "  Dep_Time  Arrival_Time Duration Total_Stops Additional_Info  Price  \n",
       "0    22:20  01:10 22 Mar   2h 50m    non-stop         No info   3897  \n",
       "1    05:50         13:15   7h 25m     2 stops         No info   7662  \n",
       "2    09:25  04:25 10 Jun      19h     2 stops         No info  13882  \n",
       "3    18:05         23:30   5h 25m      1 stop         No info   6218  \n",
       "4    16:50         21:35   4h 45m      1 stop         No info  13302  "
      ]
     },
     "execution_count": 3,
     "metadata": {},
     "output_type": "execute_result"
    }
   ],
   "source": [
    "#import dataset using pandas and parse dates\n",
    "\n",
    "df=pd.read_excel('/kaggle/input/plane-ticket-price/Data_Train.xlsx', parse_dates=['Date_of_Journey'])\n",
    "dates=['Date_of_Journey']\n",
    "df.head()"
   ]
  },
  {
   "cell_type": "markdown",
   "id": "a4579fa9",
   "metadata": {
    "papermill": {
     "duration": 0.011837,
     "end_time": "2024-01-17T20:38:27.818379",
     "exception": false,
     "start_time": "2024-01-17T20:38:27.806542",
     "status": "completed"
    },
    "tags": []
   },
   "source": [
    "**Data Analysis basic Information**"
   ]
  },
  {
   "cell_type": "code",
   "execution_count": 4,
   "id": "678f9b76",
   "metadata": {
    "execution": {
     "iopub.execute_input": "2024-01-17T20:38:27.842025Z",
     "iopub.status.busy": "2024-01-17T20:38:27.841262Z",
     "iopub.status.idle": "2024-01-17T20:38:27.846290Z",
     "shell.execute_reply": "2024-01-17T20:38:27.845601Z"
    },
    "papermill": {
     "duration": 0.018457,
     "end_time": "2024-01-17T20:38:27.847730",
     "exception": false,
     "start_time": "2024-01-17T20:38:27.829273",
     "status": "completed"
    },
    "tags": []
   },
   "outputs": [
    {
     "data": {
      "text/plain": [
       "(10683, 11)"
      ]
     },
     "execution_count": 4,
     "metadata": {},
     "output_type": "execute_result"
    }
   ],
   "source": [
    "df.shape"
   ]
  },
  {
   "cell_type": "code",
   "execution_count": 5,
   "id": "05a79165",
   "metadata": {
    "execution": {
     "iopub.execute_input": "2024-01-17T20:38:27.871383Z",
     "iopub.status.busy": "2024-01-17T20:38:27.870900Z",
     "iopub.status.idle": "2024-01-17T20:38:27.887049Z",
     "shell.execute_reply": "2024-01-17T20:38:27.886522Z"
    },
    "papermill": {
     "duration": 0.029653,
     "end_time": "2024-01-17T20:38:27.888601",
     "exception": false,
     "start_time": "2024-01-17T20:38:27.858948",
     "status": "completed"
    },
    "tags": []
   },
   "outputs": [
    {
     "name": "stdout",
     "output_type": "stream",
     "text": [
      "<class 'pandas.core.frame.DataFrame'>\n",
      "RangeIndex: 10683 entries, 0 to 10682\n",
      "Data columns (total 11 columns):\n",
      " #   Column           Non-Null Count  Dtype         \n",
      "---  ------           --------------  -----         \n",
      " 0   Airline          10683 non-null  object        \n",
      " 1   Date_of_Journey  10683 non-null  datetime64[ns]\n",
      " 2   Source           10683 non-null  object        \n",
      " 3   Destination      10683 non-null  object        \n",
      " 4   Route            10682 non-null  object        \n",
      " 5   Dep_Time         10683 non-null  object        \n",
      " 6   Arrival_Time     10683 non-null  object        \n",
      " 7   Duration         10683 non-null  object        \n",
      " 8   Total_Stops      10682 non-null  object        \n",
      " 9   Additional_Info  10683 non-null  object        \n",
      " 10  Price            10683 non-null  int64         \n",
      "dtypes: datetime64[ns](1), int64(1), object(9)\n",
      "memory usage: 918.2+ KB\n"
     ]
    }
   ],
   "source": [
    "# Check the basic info of the data\n",
    "df.info()"
   ]
  },
  {
   "cell_type": "code",
   "execution_count": 6,
   "id": "d926a4ee",
   "metadata": {
    "execution": {
     "iopub.execute_input": "2024-01-17T20:38:27.912753Z",
     "iopub.status.busy": "2024-01-17T20:38:27.912099Z",
     "iopub.status.idle": "2024-01-17T20:38:27.928263Z",
     "shell.execute_reply": "2024-01-17T20:38:27.927455Z"
    },
    "papermill": {
     "duration": 0.02969,
     "end_time": "2024-01-17T20:38:27.929899",
     "exception": false,
     "start_time": "2024-01-17T20:38:27.900209",
     "status": "completed"
    },
    "tags": []
   },
   "outputs": [
    {
     "data": {
      "text/html": [
       "<div>\n",
       "<style scoped>\n",
       "    .dataframe tbody tr th:only-of-type {\n",
       "        vertical-align: middle;\n",
       "    }\n",
       "\n",
       "    .dataframe tbody tr th {\n",
       "        vertical-align: top;\n",
       "    }\n",
       "\n",
       "    .dataframe thead th {\n",
       "        text-align: right;\n",
       "    }\n",
       "</style>\n",
       "<table border=\"1\" class=\"dataframe\">\n",
       "  <thead>\n",
       "    <tr style=\"text-align: right;\">\n",
       "      <th></th>\n",
       "      <th>Date_of_Journey</th>\n",
       "      <th>Price</th>\n",
       "    </tr>\n",
       "  </thead>\n",
       "  <tbody>\n",
       "    <tr>\n",
       "      <th>count</th>\n",
       "      <td>10683</td>\n",
       "      <td>10683.000000</td>\n",
       "    </tr>\n",
       "    <tr>\n",
       "      <th>mean</th>\n",
       "      <td>2019-05-04 19:56:41.853412096</td>\n",
       "      <td>9087.064121</td>\n",
       "    </tr>\n",
       "    <tr>\n",
       "      <th>min</th>\n",
       "      <td>2019-03-01 00:00:00</td>\n",
       "      <td>1759.000000</td>\n",
       "    </tr>\n",
       "    <tr>\n",
       "      <th>25%</th>\n",
       "      <td>2019-03-27 00:00:00</td>\n",
       "      <td>5277.000000</td>\n",
       "    </tr>\n",
       "    <tr>\n",
       "      <th>50%</th>\n",
       "      <td>2019-05-15 00:00:00</td>\n",
       "      <td>8372.000000</td>\n",
       "    </tr>\n",
       "    <tr>\n",
       "      <th>75%</th>\n",
       "      <td>2019-06-06 00:00:00</td>\n",
       "      <td>12373.000000</td>\n",
       "    </tr>\n",
       "    <tr>\n",
       "      <th>max</th>\n",
       "      <td>2019-06-27 00:00:00</td>\n",
       "      <td>79512.000000</td>\n",
       "    </tr>\n",
       "    <tr>\n",
       "      <th>std</th>\n",
       "      <td>NaN</td>\n",
       "      <td>4611.359167</td>\n",
       "    </tr>\n",
       "  </tbody>\n",
       "</table>\n",
       "</div>"
      ],
      "text/plain": [
       "                     Date_of_Journey         Price\n",
       "count                          10683  10683.000000\n",
       "mean   2019-05-04 19:56:41.853412096   9087.064121\n",
       "min              2019-03-01 00:00:00   1759.000000\n",
       "25%              2019-03-27 00:00:00   5277.000000\n",
       "50%              2019-05-15 00:00:00   8372.000000\n",
       "75%              2019-06-06 00:00:00  12373.000000\n",
       "max              2019-06-27 00:00:00  79512.000000\n",
       "std                              NaN   4611.359167"
      ]
     },
     "execution_count": 6,
     "metadata": {},
     "output_type": "execute_result"
    }
   ],
   "source": [
    "# Check the statistics info of the data\n",
    "df.describe()"
   ]
  },
  {
   "cell_type": "markdown",
   "id": "68d4918f",
   "metadata": {
    "papermill": {
     "duration": 0.011136,
     "end_time": "2024-01-17T20:38:27.952546",
     "exception": false,
     "start_time": "2024-01-17T20:38:27.941410",
     "status": "completed"
    },
    "tags": []
   },
   "source": [
    "# Data Cleaning"
   ]
  },
  {
   "cell_type": "code",
   "execution_count": 7,
   "id": "bb8c8a18",
   "metadata": {
    "execution": {
     "iopub.execute_input": "2024-01-17T20:38:27.976935Z",
     "iopub.status.busy": "2024-01-17T20:38:27.976661Z",
     "iopub.status.idle": "2024-01-17T20:38:27.986006Z",
     "shell.execute_reply": "2024-01-17T20:38:27.985338Z"
    },
    "papermill": {
     "duration": 0.023022,
     "end_time": "2024-01-17T20:38:27.987402",
     "exception": false,
     "start_time": "2024-01-17T20:38:27.964380",
     "status": "completed"
    },
    "tags": []
   },
   "outputs": [
    {
     "data": {
      "text/plain": [
       "Airline            0\n",
       "Date_of_Journey    0\n",
       "Source             0\n",
       "Destination        0\n",
       "Route              1\n",
       "Dep_Time           0\n",
       "Arrival_Time       0\n",
       "Duration           0\n",
       "Total_Stops        1\n",
       "Additional_Info    0\n",
       "Price              0\n",
       "dtype: int64"
      ]
     },
     "execution_count": 7,
     "metadata": {},
     "output_type": "execute_result"
    }
   ],
   "source": [
    "# Checking for Null Values\n",
    "df.isnull().sum()"
   ]
  },
  {
   "cell_type": "code",
   "execution_count": 8,
   "id": "4b533259",
   "metadata": {
    "execution": {
     "iopub.execute_input": "2024-01-17T20:38:28.011609Z",
     "iopub.status.busy": "2024-01-17T20:38:28.011150Z",
     "iopub.status.idle": "2024-01-17T20:38:28.019429Z",
     "shell.execute_reply": "2024-01-17T20:38:28.018907Z"
    },
    "papermill": {
     "duration": 0.022241,
     "end_time": "2024-01-17T20:38:28.021061",
     "exception": false,
     "start_time": "2024-01-17T20:38:27.998820",
     "status": "completed"
    },
    "tags": []
   },
   "outputs": [],
   "source": [
    "# Drop Null values Because there is a only 2 Null Values\n",
    "df.dropna(inplace=True)"
   ]
  },
  {
   "cell_type": "code",
   "execution_count": 9,
   "id": "ea11709a",
   "metadata": {
    "execution": {
     "iopub.execute_input": "2024-01-17T20:38:28.087440Z",
     "iopub.status.busy": "2024-01-17T20:38:28.086913Z",
     "iopub.status.idle": "2024-01-17T20:38:28.095939Z",
     "shell.execute_reply": "2024-01-17T20:38:28.095145Z"
    },
    "papermill": {
     "duration": 0.023414,
     "end_time": "2024-01-17T20:38:28.097629",
     "exception": false,
     "start_time": "2024-01-17T20:38:28.074215",
     "status": "completed"
    },
    "tags": []
   },
   "outputs": [
    {
     "data": {
      "text/plain": [
       "Airline            0\n",
       "Date_of_Journey    0\n",
       "Source             0\n",
       "Destination        0\n",
       "Route              0\n",
       "Dep_Time           0\n",
       "Arrival_Time       0\n",
       "Duration           0\n",
       "Total_Stops        0\n",
       "Additional_Info    0\n",
       "Price              0\n",
       "dtype: int64"
      ]
     },
     "execution_count": 9,
     "metadata": {},
     "output_type": "execute_result"
    }
   ],
   "source": [
    "# Checking for Null Values\n",
    "df.isnull().sum()"
   ]
  },
  {
   "cell_type": "code",
   "execution_count": 10,
   "id": "8d20ad22",
   "metadata": {
    "execution": {
     "iopub.execute_input": "2024-01-17T20:38:28.122304Z",
     "iopub.status.busy": "2024-01-17T20:38:28.122026Z",
     "iopub.status.idle": "2024-01-17T20:38:28.136710Z",
     "shell.execute_reply": "2024-01-17T20:38:28.135911Z"
    },
    "papermill": {
     "duration": 0.028731,
     "end_time": "2024-01-17T20:38:28.138280",
     "exception": false,
     "start_time": "2024-01-17T20:38:28.109549",
     "status": "completed"
    },
    "tags": []
   },
   "outputs": [
    {
     "data": {
      "text/plain": [
       "220"
      ]
     },
     "execution_count": 10,
     "metadata": {},
     "output_type": "execute_result"
    }
   ],
   "source": [
    "# Checking for Duplicated Values\n",
    "df.duplicated().sum()"
   ]
  },
  {
   "cell_type": "code",
   "execution_count": 11,
   "id": "71b31aea",
   "metadata": {
    "execution": {
     "iopub.execute_input": "2024-01-17T20:38:28.162753Z",
     "iopub.status.busy": "2024-01-17T20:38:28.162462Z",
     "iopub.status.idle": "2024-01-17T20:38:28.175363Z",
     "shell.execute_reply": "2024-01-17T20:38:28.174808Z"
    },
    "papermill": {
     "duration": 0.027042,
     "end_time": "2024-01-17T20:38:28.177095",
     "exception": false,
     "start_time": "2024-01-17T20:38:28.150053",
     "status": "completed"
    },
    "tags": []
   },
   "outputs": [],
   "source": [
    "# Drop Duplicated Values\n",
    "df.drop_duplicates(keep='first',inplace=True)"
   ]
  },
  {
   "cell_type": "code",
   "execution_count": 12,
   "id": "83520f60",
   "metadata": {
    "execution": {
     "iopub.execute_input": "2024-01-17T20:38:28.203583Z",
     "iopub.status.busy": "2024-01-17T20:38:28.203048Z",
     "iopub.status.idle": "2024-01-17T20:38:28.216723Z",
     "shell.execute_reply": "2024-01-17T20:38:28.215909Z"
    },
    "papermill": {
     "duration": 0.028226,
     "end_time": "2024-01-17T20:38:28.218295",
     "exception": false,
     "start_time": "2024-01-17T20:38:28.190069",
     "status": "completed"
    },
    "tags": []
   },
   "outputs": [
    {
     "data": {
      "text/plain": [
       "0"
      ]
     },
     "execution_count": 12,
     "metadata": {},
     "output_type": "execute_result"
    }
   ],
   "source": [
    "# After Removed Duplicated\n",
    "df.duplicated().sum()"
   ]
  },
  {
   "cell_type": "code",
   "execution_count": 13,
   "id": "f5115a10",
   "metadata": {
    "execution": {
     "iopub.execute_input": "2024-01-17T20:38:28.244085Z",
     "iopub.status.busy": "2024-01-17T20:38:28.243811Z",
     "iopub.status.idle": "2024-01-17T20:38:28.255390Z",
     "shell.execute_reply": "2024-01-17T20:38:28.254819Z"
    },
    "papermill": {
     "duration": 0.025838,
     "end_time": "2024-01-17T20:38:28.256841",
     "exception": false,
     "start_time": "2024-01-17T20:38:28.231003",
     "status": "completed"
    },
    "tags": []
   },
   "outputs": [
    {
     "data": {
      "text/html": [
       "<div>\n",
       "<style scoped>\n",
       "    .dataframe tbody tr th:only-of-type {\n",
       "        vertical-align: middle;\n",
       "    }\n",
       "\n",
       "    .dataframe tbody tr th {\n",
       "        vertical-align: top;\n",
       "    }\n",
       "\n",
       "    .dataframe thead th {\n",
       "        text-align: right;\n",
       "    }\n",
       "</style>\n",
       "<table border=\"1\" class=\"dataframe\">\n",
       "  <thead>\n",
       "    <tr style=\"text-align: right;\">\n",
       "      <th></th>\n",
       "      <th>Airline</th>\n",
       "      <th>Date_of_Journey</th>\n",
       "      <th>Source</th>\n",
       "      <th>Destination</th>\n",
       "      <th>Route</th>\n",
       "      <th>Dep_Time</th>\n",
       "      <th>Arrival_Time</th>\n",
       "      <th>Duration</th>\n",
       "      <th>Total_Stops</th>\n",
       "      <th>Additional_Info</th>\n",
       "      <th>Price</th>\n",
       "    </tr>\n",
       "  </thead>\n",
       "  <tbody>\n",
       "    <tr>\n",
       "      <th>0</th>\n",
       "      <td>IndiGo</td>\n",
       "      <td>2019-03-24</td>\n",
       "      <td>Banglore</td>\n",
       "      <td>New Delhi</td>\n",
       "      <td>BLR → DEL</td>\n",
       "      <td>22:20</td>\n",
       "      <td>01:10 22 Mar</td>\n",
       "      <td>2h 50m</td>\n",
       "      <td>non-stop</td>\n",
       "      <td>No info</td>\n",
       "      <td>3897</td>\n",
       "    </tr>\n",
       "    <tr>\n",
       "      <th>1</th>\n",
       "      <td>Air India</td>\n",
       "      <td>2019-05-01</td>\n",
       "      <td>Kolkata</td>\n",
       "      <td>Banglore</td>\n",
       "      <td>CCU → IXR → BBI → BLR</td>\n",
       "      <td>05:50</td>\n",
       "      <td>13:15</td>\n",
       "      <td>7h 25m</td>\n",
       "      <td>2 stops</td>\n",
       "      <td>No info</td>\n",
       "      <td>7662</td>\n",
       "    </tr>\n",
       "    <tr>\n",
       "      <th>2</th>\n",
       "      <td>Jet Airways</td>\n",
       "      <td>2019-06-09</td>\n",
       "      <td>Delhi</td>\n",
       "      <td>Cochin</td>\n",
       "      <td>DEL → LKO → BOM → COK</td>\n",
       "      <td>09:25</td>\n",
       "      <td>04:25 10 Jun</td>\n",
       "      <td>19h</td>\n",
       "      <td>2 stops</td>\n",
       "      <td>No info</td>\n",
       "      <td>13882</td>\n",
       "    </tr>\n",
       "    <tr>\n",
       "      <th>3</th>\n",
       "      <td>IndiGo</td>\n",
       "      <td>2019-05-12</td>\n",
       "      <td>Kolkata</td>\n",
       "      <td>Banglore</td>\n",
       "      <td>CCU → NAG → BLR</td>\n",
       "      <td>18:05</td>\n",
       "      <td>23:30</td>\n",
       "      <td>5h 25m</td>\n",
       "      <td>1 stop</td>\n",
       "      <td>No info</td>\n",
       "      <td>6218</td>\n",
       "    </tr>\n",
       "    <tr>\n",
       "      <th>4</th>\n",
       "      <td>IndiGo</td>\n",
       "      <td>2019-03-01</td>\n",
       "      <td>Banglore</td>\n",
       "      <td>New Delhi</td>\n",
       "      <td>BLR → NAG → DEL</td>\n",
       "      <td>16:50</td>\n",
       "      <td>21:35</td>\n",
       "      <td>4h 45m</td>\n",
       "      <td>1 stop</td>\n",
       "      <td>No info</td>\n",
       "      <td>13302</td>\n",
       "    </tr>\n",
       "  </tbody>\n",
       "</table>\n",
       "</div>"
      ],
      "text/plain": [
       "       Airline Date_of_Journey    Source Destination                  Route  \\\n",
       "0       IndiGo      2019-03-24  Banglore   New Delhi              BLR → DEL   \n",
       "1    Air India      2019-05-01   Kolkata    Banglore  CCU → IXR → BBI → BLR   \n",
       "2  Jet Airways      2019-06-09     Delhi      Cochin  DEL → LKO → BOM → COK   \n",
       "3       IndiGo      2019-05-12   Kolkata    Banglore        CCU → NAG → BLR   \n",
       "4       IndiGo      2019-03-01  Banglore   New Delhi        BLR → NAG → DEL   \n",
       "\n",
       "  Dep_Time  Arrival_Time Duration Total_Stops Additional_Info  Price  \n",
       "0    22:20  01:10 22 Mar   2h 50m    non-stop         No info   3897  \n",
       "1    05:50         13:15   7h 25m     2 stops         No info   7662  \n",
       "2    09:25  04:25 10 Jun      19h     2 stops         No info  13882  \n",
       "3    18:05         23:30   5h 25m      1 stop         No info   6218  \n",
       "4    16:50         21:35   4h 45m      1 stop         No info  13302  "
      ]
     },
     "execution_count": 13,
     "metadata": {},
     "output_type": "execute_result"
    }
   ],
   "source": [
    "df.head(5)"
   ]
  },
  {
   "cell_type": "markdown",
   "id": "ebc2c2c3",
   "metadata": {
    "papermill": {
     "duration": 0.012035,
     "end_time": "2024-01-17T20:38:28.281566",
     "exception": false,
     "start_time": "2024-01-17T20:38:28.269531",
     "status": "completed"
    },
    "tags": []
   },
   "source": [
    "# Feature Engineering"
   ]
  },
  {
   "cell_type": "code",
   "execution_count": 14,
   "id": "06988e92",
   "metadata": {
    "execution": {
     "iopub.execute_input": "2024-01-17T20:38:28.308777Z",
     "iopub.status.busy": "2024-01-17T20:38:28.308020Z",
     "iopub.status.idle": "2024-01-17T20:38:28.314913Z",
     "shell.execute_reply": "2024-01-17T20:38:28.314189Z"
    },
    "papermill": {
     "duration": 0.022887,
     "end_time": "2024-01-17T20:38:28.316452",
     "exception": false,
     "start_time": "2024-01-17T20:38:28.293565",
     "status": "completed"
    },
    "tags": []
   },
   "outputs": [],
   "source": [
    "# Derive Two New Columns from Date of Journey (Day, Month)\n",
    "df['journey_day'] = df['Date_of_Journey'].dt.day\n",
    "df['journey_month'] = df['Date_of_Journey'].dt.month"
   ]
  },
  {
   "cell_type": "code",
   "execution_count": 15,
   "id": "db3605ca",
   "metadata": {
    "execution": {
     "iopub.execute_input": "2024-01-17T20:38:28.341934Z",
     "iopub.status.busy": "2024-01-17T20:38:28.341517Z",
     "iopub.status.idle": "2024-01-17T20:38:28.348579Z",
     "shell.execute_reply": "2024-01-17T20:38:28.347997Z"
    },
    "papermill": {
     "duration": 0.021382,
     "end_time": "2024-01-17T20:38:28.350151",
     "exception": false,
     "start_time": "2024-01-17T20:38:28.328769",
     "status": "completed"
    },
    "tags": []
   },
   "outputs": [],
   "source": [
    "# Derive New Column of Weekend days\n",
    "df['date_is_weekend'] = np.where(df['Date_of_Journey'].dt.day_name().isin(['Saturday','Sunday']),1,0)"
   ]
  },
  {
   "cell_type": "code",
   "execution_count": 16,
   "id": "2f64e4a8",
   "metadata": {
    "execution": {
     "iopub.execute_input": "2024-01-17T20:38:28.375585Z",
     "iopub.status.busy": "2024-01-17T20:38:28.375108Z",
     "iopub.status.idle": "2024-01-17T20:38:28.390988Z",
     "shell.execute_reply": "2024-01-17T20:38:28.390444Z"
    },
    "papermill": {
     "duration": 0.030285,
     "end_time": "2024-01-17T20:38:28.392461",
     "exception": false,
     "start_time": "2024-01-17T20:38:28.362176",
     "status": "completed"
    },
    "tags": []
   },
   "outputs": [],
   "source": [
    "# Method 2:\n",
    "df['Dep_Hour'] = df['Dep_Time'].apply(lambda x: int(x.split(':')[0]))\n",
    "df['Dep_Min'] = df['Dep_Time'].apply(lambda x: int(x.split(':')[1]))"
   ]
  },
  {
   "cell_type": "code",
   "execution_count": 17,
   "id": "ed69dd84",
   "metadata": {
    "execution": {
     "iopub.execute_input": "2024-01-17T20:38:28.418329Z",
     "iopub.status.busy": "2024-01-17T20:38:28.418089Z",
     "iopub.status.idle": "2024-01-17T20:38:28.435994Z",
     "shell.execute_reply": "2024-01-17T20:38:28.435223Z"
    },
    "papermill": {
     "duration": 0.032389,
     "end_time": "2024-01-17T20:38:28.437534",
     "exception": false,
     "start_time": "2024-01-17T20:38:28.405145",
     "status": "completed"
    },
    "tags": []
   },
   "outputs": [],
   "source": [
    "# Method 2:\n",
    "df['Arrival_Hour'] = df['Arrival_Time'].apply(lambda x: int(x.split(':')[0]))\n",
    "df['Arrival_Min'] = df['Arrival_Time'].apply(lambda x: int(x.split(':')[1].split()[0]))"
   ]
  },
  {
   "cell_type": "code",
   "execution_count": 18,
   "id": "8dea4a7b",
   "metadata": {
    "execution": {
     "iopub.execute_input": "2024-01-17T20:38:28.462834Z",
     "iopub.status.busy": "2024-01-17T20:38:28.462569Z",
     "iopub.status.idle": "2024-01-17T20:38:28.472532Z",
     "shell.execute_reply": "2024-01-17T20:38:28.471818Z"
    },
    "papermill": {
     "duration": 0.02422,
     "end_time": "2024-01-17T20:38:28.473956",
     "exception": false,
     "start_time": "2024-01-17T20:38:28.449736",
     "status": "completed"
    },
    "tags": []
   },
   "outputs": [],
   "source": [
    "# PreProcessing of Duration Columns and Derive New Two Columns (Duration_Hours,Duration_Min)\n",
    "df['Duration'].unique()\n",
    "\n",
    "# Function for impute duration values like 0h or 0m\n",
    "def impute_Duration(duration):\n",
    "    x = duration.split()\n",
    "    \n",
    "    if len(x) != 2:\n",
    "        if 'h' in x[0]:\n",
    "            return x[0] + ' 0m'\n",
    "        else:\n",
    "            return '0h ' + x[0]\n",
    "        \n",
    "    else:\n",
    "        return duration\n",
    "\n",
    "# Call Function\n",
    "df['Duration'] = df['Duration'].apply(impute_Duration)"
   ]
  },
  {
   "cell_type": "code",
   "execution_count": 19,
   "id": "8a346993",
   "metadata": {
    "execution": {
     "iopub.execute_input": "2024-01-17T20:38:28.499112Z",
     "iopub.status.busy": "2024-01-17T20:38:28.498875Z",
     "iopub.status.idle": "2024-01-17T20:38:28.515047Z",
     "shell.execute_reply": "2024-01-17T20:38:28.514492Z"
    },
    "papermill": {
     "duration": 0.030491,
     "end_time": "2024-01-17T20:38:28.516624",
     "exception": false,
     "start_time": "2024-01-17T20:38:28.486133",
     "status": "completed"
    },
    "tags": []
   },
   "outputs": [],
   "source": [
    "# Make New Two Columns of Duration\n",
    "df['Duration_Hour'] = df['Duration'].apply(lambda x:int(x.split('h')[0]))\n",
    "df['Duration_Minute'] = df['Duration'].apply(lambda x:x.split('m')[0].split()[1])"
   ]
  },
  {
   "cell_type": "code",
   "execution_count": 20,
   "id": "59a48fac",
   "metadata": {
    "execution": {
     "iopub.execute_input": "2024-01-17T20:38:28.542261Z",
     "iopub.status.busy": "2024-01-17T20:38:28.541842Z",
     "iopub.status.idle": "2024-01-17T20:38:28.547690Z",
     "shell.execute_reply": "2024-01-17T20:38:28.546933Z"
    },
    "papermill": {
     "duration": 0.020408,
     "end_time": "2024-01-17T20:38:28.549216",
     "exception": false,
     "start_time": "2024-01-17T20:38:28.528808",
     "status": "completed"
    },
    "tags": []
   },
   "outputs": [
    {
     "data": {
      "text/plain": [
       "array(['non-stop', '2 stops', '1 stop', '3 stops', '4 stops'],\n",
       "      dtype=object)"
      ]
     },
     "execution_count": 20,
     "metadata": {},
     "output_type": "execute_result"
    }
   ],
   "source": [
    "# Now Let's Handle Total Stops Column\n",
    "df['Total_Stops'].unique()"
   ]
  },
  {
   "cell_type": "code",
   "execution_count": 21,
   "id": "43850f38",
   "metadata": {
    "execution": {
     "iopub.execute_input": "2024-01-17T20:38:28.575630Z",
     "iopub.status.busy": "2024-01-17T20:38:28.575176Z",
     "iopub.status.idle": "2024-01-17T20:38:28.751998Z",
     "shell.execute_reply": "2024-01-17T20:38:28.751105Z"
    },
    "papermill": {
     "duration": 0.192635,
     "end_time": "2024-01-17T20:38:28.754456",
     "exception": false,
     "start_time": "2024-01-17T20:38:28.561821",
     "status": "completed"
    },
    "tags": []
   },
   "outputs": [],
   "source": [
    "from sklearn.preprocessing import OrdinalEncoder\n",
    "\n",
    "# Convert String to Integer Using Ordinal Encoder Because that is an ordering column\n",
    "oec = OrdinalEncoder(categories=[['non-stop', '1 stop', '2 stops', '3 stops', '4 stops']], dtype=int)\n",
    "\n",
    "stops = oec.fit_transform(np.array(df['Total_Stops']).reshape(-1, 1))\n",
    "\n",
    "df['Total_Stops'] = stops\n"
   ]
  },
  {
   "cell_type": "code",
   "execution_count": 22,
   "id": "a63776fb",
   "metadata": {
    "execution": {
     "iopub.execute_input": "2024-01-17T20:38:28.780759Z",
     "iopub.status.busy": "2024-01-17T20:38:28.780439Z",
     "iopub.status.idle": "2024-01-17T20:38:28.795977Z",
     "shell.execute_reply": "2024-01-17T20:38:28.795191Z"
    },
    "papermill": {
     "duration": 0.03036,
     "end_time": "2024-01-17T20:38:28.797616",
     "exception": false,
     "start_time": "2024-01-17T20:38:28.767256",
     "status": "completed"
    },
    "tags": []
   },
   "outputs": [
    {
     "data": {
      "text/html": [
       "<div>\n",
       "<style scoped>\n",
       "    .dataframe tbody tr th:only-of-type {\n",
       "        vertical-align: middle;\n",
       "    }\n",
       "\n",
       "    .dataframe tbody tr th {\n",
       "        vertical-align: top;\n",
       "    }\n",
       "\n",
       "    .dataframe thead th {\n",
       "        text-align: right;\n",
       "    }\n",
       "</style>\n",
       "<table border=\"1\" class=\"dataframe\">\n",
       "  <thead>\n",
       "    <tr style=\"text-align: right;\">\n",
       "      <th></th>\n",
       "      <th>Airline</th>\n",
       "      <th>Date_of_Journey</th>\n",
       "      <th>Source</th>\n",
       "      <th>Destination</th>\n",
       "      <th>Route</th>\n",
       "      <th>Dep_Time</th>\n",
       "      <th>Arrival_Time</th>\n",
       "      <th>Duration</th>\n",
       "      <th>Total_Stops</th>\n",
       "      <th>Additional_Info</th>\n",
       "      <th>Price</th>\n",
       "      <th>journey_day</th>\n",
       "      <th>journey_month</th>\n",
       "      <th>date_is_weekend</th>\n",
       "      <th>Dep_Hour</th>\n",
       "      <th>Dep_Min</th>\n",
       "      <th>Arrival_Hour</th>\n",
       "      <th>Arrival_Min</th>\n",
       "      <th>Duration_Hour</th>\n",
       "      <th>Duration_Minute</th>\n",
       "    </tr>\n",
       "  </thead>\n",
       "  <tbody>\n",
       "    <tr>\n",
       "      <th>0</th>\n",
       "      <td>IndiGo</td>\n",
       "      <td>2019-03-24</td>\n",
       "      <td>Banglore</td>\n",
       "      <td>New Delhi</td>\n",
       "      <td>BLR → DEL</td>\n",
       "      <td>22:20</td>\n",
       "      <td>01:10 22 Mar</td>\n",
       "      <td>2h 50m</td>\n",
       "      <td>0</td>\n",
       "      <td>No info</td>\n",
       "      <td>3897</td>\n",
       "      <td>24</td>\n",
       "      <td>3</td>\n",
       "      <td>1</td>\n",
       "      <td>22</td>\n",
       "      <td>20</td>\n",
       "      <td>1</td>\n",
       "      <td>10</td>\n",
       "      <td>2</td>\n",
       "      <td>50</td>\n",
       "    </tr>\n",
       "    <tr>\n",
       "      <th>1</th>\n",
       "      <td>Air India</td>\n",
       "      <td>2019-05-01</td>\n",
       "      <td>Kolkata</td>\n",
       "      <td>Banglore</td>\n",
       "      <td>CCU → IXR → BBI → BLR</td>\n",
       "      <td>05:50</td>\n",
       "      <td>13:15</td>\n",
       "      <td>7h 25m</td>\n",
       "      <td>2</td>\n",
       "      <td>No info</td>\n",
       "      <td>7662</td>\n",
       "      <td>1</td>\n",
       "      <td>5</td>\n",
       "      <td>0</td>\n",
       "      <td>5</td>\n",
       "      <td>50</td>\n",
       "      <td>13</td>\n",
       "      <td>15</td>\n",
       "      <td>7</td>\n",
       "      <td>25</td>\n",
       "    </tr>\n",
       "    <tr>\n",
       "      <th>2</th>\n",
       "      <td>Jet Airways</td>\n",
       "      <td>2019-06-09</td>\n",
       "      <td>Delhi</td>\n",
       "      <td>Cochin</td>\n",
       "      <td>DEL → LKO → BOM → COK</td>\n",
       "      <td>09:25</td>\n",
       "      <td>04:25 10 Jun</td>\n",
       "      <td>19h 0m</td>\n",
       "      <td>2</td>\n",
       "      <td>No info</td>\n",
       "      <td>13882</td>\n",
       "      <td>9</td>\n",
       "      <td>6</td>\n",
       "      <td>1</td>\n",
       "      <td>9</td>\n",
       "      <td>25</td>\n",
       "      <td>4</td>\n",
       "      <td>25</td>\n",
       "      <td>19</td>\n",
       "      <td>0</td>\n",
       "    </tr>\n",
       "    <tr>\n",
       "      <th>3</th>\n",
       "      <td>IndiGo</td>\n",
       "      <td>2019-05-12</td>\n",
       "      <td>Kolkata</td>\n",
       "      <td>Banglore</td>\n",
       "      <td>CCU → NAG → BLR</td>\n",
       "      <td>18:05</td>\n",
       "      <td>23:30</td>\n",
       "      <td>5h 25m</td>\n",
       "      <td>1</td>\n",
       "      <td>No info</td>\n",
       "      <td>6218</td>\n",
       "      <td>12</td>\n",
       "      <td>5</td>\n",
       "      <td>1</td>\n",
       "      <td>18</td>\n",
       "      <td>5</td>\n",
       "      <td>23</td>\n",
       "      <td>30</td>\n",
       "      <td>5</td>\n",
       "      <td>25</td>\n",
       "    </tr>\n",
       "    <tr>\n",
       "      <th>4</th>\n",
       "      <td>IndiGo</td>\n",
       "      <td>2019-03-01</td>\n",
       "      <td>Banglore</td>\n",
       "      <td>New Delhi</td>\n",
       "      <td>BLR → NAG → DEL</td>\n",
       "      <td>16:50</td>\n",
       "      <td>21:35</td>\n",
       "      <td>4h 45m</td>\n",
       "      <td>1</td>\n",
       "      <td>No info</td>\n",
       "      <td>13302</td>\n",
       "      <td>1</td>\n",
       "      <td>3</td>\n",
       "      <td>0</td>\n",
       "      <td>16</td>\n",
       "      <td>50</td>\n",
       "      <td>21</td>\n",
       "      <td>35</td>\n",
       "      <td>4</td>\n",
       "      <td>45</td>\n",
       "    </tr>\n",
       "  </tbody>\n",
       "</table>\n",
       "</div>"
      ],
      "text/plain": [
       "       Airline Date_of_Journey    Source Destination                  Route  \\\n",
       "0       IndiGo      2019-03-24  Banglore   New Delhi              BLR → DEL   \n",
       "1    Air India      2019-05-01   Kolkata    Banglore  CCU → IXR → BBI → BLR   \n",
       "2  Jet Airways      2019-06-09     Delhi      Cochin  DEL → LKO → BOM → COK   \n",
       "3       IndiGo      2019-05-12   Kolkata    Banglore        CCU → NAG → BLR   \n",
       "4       IndiGo      2019-03-01  Banglore   New Delhi        BLR → NAG → DEL   \n",
       "\n",
       "  Dep_Time  Arrival_Time Duration  Total_Stops Additional_Info  Price  \\\n",
       "0    22:20  01:10 22 Mar   2h 50m            0         No info   3897   \n",
       "1    05:50         13:15   7h 25m            2         No info   7662   \n",
       "2    09:25  04:25 10 Jun   19h 0m            2         No info  13882   \n",
       "3    18:05         23:30   5h 25m            1         No info   6218   \n",
       "4    16:50         21:35   4h 45m            1         No info  13302   \n",
       "\n",
       "   journey_day  journey_month  date_is_weekend  Dep_Hour  Dep_Min  \\\n",
       "0           24              3                1        22       20   \n",
       "1            1              5                0         5       50   \n",
       "2            9              6                1         9       25   \n",
       "3           12              5                1        18        5   \n",
       "4            1              3                0        16       50   \n",
       "\n",
       "   Arrival_Hour  Arrival_Min  Duration_Hour Duration_Minute  \n",
       "0             1           10              2              50  \n",
       "1            13           15              7              25  \n",
       "2             4           25             19               0  \n",
       "3            23           30              5              25  \n",
       "4            21           35              4              45  "
      ]
     },
     "execution_count": 22,
     "metadata": {},
     "output_type": "execute_result"
    }
   ],
   "source": [
    "df.head()"
   ]
  },
  {
   "cell_type": "code",
   "execution_count": 23,
   "id": "15971541",
   "metadata": {
    "execution": {
     "iopub.execute_input": "2024-01-17T20:38:28.824037Z",
     "iopub.status.busy": "2024-01-17T20:38:28.823607Z",
     "iopub.status.idle": "2024-01-17T20:38:28.829998Z",
     "shell.execute_reply": "2024-01-17T20:38:28.829434Z"
    },
    "papermill": {
     "duration": 0.021298,
     "end_time": "2024-01-17T20:38:28.831537",
     "exception": false,
     "start_time": "2024-01-17T20:38:28.810239",
     "status": "completed"
    },
    "tags": []
   },
   "outputs": [],
   "source": [
    "# Drop Route,Date_of_journey,Dep_Time,Arrival_Time,Durations,Additional Info(Not Important) Columns\n",
    "df = df.drop(['Route','Date_of_Journey','Dep_Time','Arrival_Time','Duration','Additional_Info'],axis='columns')"
   ]
  },
  {
   "cell_type": "code",
   "execution_count": 24,
   "id": "18d816a9",
   "metadata": {
    "execution": {
     "iopub.execute_input": "2024-01-17T20:38:28.858073Z",
     "iopub.status.busy": "2024-01-17T20:38:28.857635Z",
     "iopub.status.idle": "2024-01-17T20:38:28.869161Z",
     "shell.execute_reply": "2024-01-17T20:38:28.868381Z"
    },
    "papermill": {
     "duration": 0.026591,
     "end_time": "2024-01-17T20:38:28.870703",
     "exception": false,
     "start_time": "2024-01-17T20:38:28.844112",
     "status": "completed"
    },
    "tags": []
   },
   "outputs": [
    {
     "data": {
      "text/html": [
       "<div>\n",
       "<style scoped>\n",
       "    .dataframe tbody tr th:only-of-type {\n",
       "        vertical-align: middle;\n",
       "    }\n",
       "\n",
       "    .dataframe tbody tr th {\n",
       "        vertical-align: top;\n",
       "    }\n",
       "\n",
       "    .dataframe thead th {\n",
       "        text-align: right;\n",
       "    }\n",
       "</style>\n",
       "<table border=\"1\" class=\"dataframe\">\n",
       "  <thead>\n",
       "    <tr style=\"text-align: right;\">\n",
       "      <th></th>\n",
       "      <th>Airline</th>\n",
       "      <th>Source</th>\n",
       "      <th>Destination</th>\n",
       "      <th>Total_Stops</th>\n",
       "      <th>Price</th>\n",
       "      <th>journey_day</th>\n",
       "      <th>journey_month</th>\n",
       "      <th>date_is_weekend</th>\n",
       "      <th>Dep_Hour</th>\n",
       "      <th>Dep_Min</th>\n",
       "      <th>Arrival_Hour</th>\n",
       "      <th>Arrival_Min</th>\n",
       "      <th>Duration_Hour</th>\n",
       "      <th>Duration_Minute</th>\n",
       "    </tr>\n",
       "  </thead>\n",
       "  <tbody>\n",
       "    <tr>\n",
       "      <th>0</th>\n",
       "      <td>IndiGo</td>\n",
       "      <td>Banglore</td>\n",
       "      <td>New Delhi</td>\n",
       "      <td>0</td>\n",
       "      <td>3897</td>\n",
       "      <td>24</td>\n",
       "      <td>3</td>\n",
       "      <td>1</td>\n",
       "      <td>22</td>\n",
       "      <td>20</td>\n",
       "      <td>1</td>\n",
       "      <td>10</td>\n",
       "      <td>2</td>\n",
       "      <td>50</td>\n",
       "    </tr>\n",
       "    <tr>\n",
       "      <th>1</th>\n",
       "      <td>Air India</td>\n",
       "      <td>Kolkata</td>\n",
       "      <td>Banglore</td>\n",
       "      <td>2</td>\n",
       "      <td>7662</td>\n",
       "      <td>1</td>\n",
       "      <td>5</td>\n",
       "      <td>0</td>\n",
       "      <td>5</td>\n",
       "      <td>50</td>\n",
       "      <td>13</td>\n",
       "      <td>15</td>\n",
       "      <td>7</td>\n",
       "      <td>25</td>\n",
       "    </tr>\n",
       "    <tr>\n",
       "      <th>2</th>\n",
       "      <td>Jet Airways</td>\n",
       "      <td>Delhi</td>\n",
       "      <td>Cochin</td>\n",
       "      <td>2</td>\n",
       "      <td>13882</td>\n",
       "      <td>9</td>\n",
       "      <td>6</td>\n",
       "      <td>1</td>\n",
       "      <td>9</td>\n",
       "      <td>25</td>\n",
       "      <td>4</td>\n",
       "      <td>25</td>\n",
       "      <td>19</td>\n",
       "      <td>0</td>\n",
       "    </tr>\n",
       "    <tr>\n",
       "      <th>3</th>\n",
       "      <td>IndiGo</td>\n",
       "      <td>Kolkata</td>\n",
       "      <td>Banglore</td>\n",
       "      <td>1</td>\n",
       "      <td>6218</td>\n",
       "      <td>12</td>\n",
       "      <td>5</td>\n",
       "      <td>1</td>\n",
       "      <td>18</td>\n",
       "      <td>5</td>\n",
       "      <td>23</td>\n",
       "      <td>30</td>\n",
       "      <td>5</td>\n",
       "      <td>25</td>\n",
       "    </tr>\n",
       "    <tr>\n",
       "      <th>4</th>\n",
       "      <td>IndiGo</td>\n",
       "      <td>Banglore</td>\n",
       "      <td>New Delhi</td>\n",
       "      <td>1</td>\n",
       "      <td>13302</td>\n",
       "      <td>1</td>\n",
       "      <td>3</td>\n",
       "      <td>0</td>\n",
       "      <td>16</td>\n",
       "      <td>50</td>\n",
       "      <td>21</td>\n",
       "      <td>35</td>\n",
       "      <td>4</td>\n",
       "      <td>45</td>\n",
       "    </tr>\n",
       "  </tbody>\n",
       "</table>\n",
       "</div>"
      ],
      "text/plain": [
       "       Airline    Source Destination  Total_Stops  Price  journey_day  \\\n",
       "0       IndiGo  Banglore   New Delhi            0   3897           24   \n",
       "1    Air India   Kolkata    Banglore            2   7662            1   \n",
       "2  Jet Airways     Delhi      Cochin            2  13882            9   \n",
       "3       IndiGo   Kolkata    Banglore            1   6218           12   \n",
       "4       IndiGo  Banglore   New Delhi            1  13302            1   \n",
       "\n",
       "   journey_month  date_is_weekend  Dep_Hour  Dep_Min  Arrival_Hour  \\\n",
       "0              3                1        22       20             1   \n",
       "1              5                0         5       50            13   \n",
       "2              6                1         9       25             4   \n",
       "3              5                1        18        5            23   \n",
       "4              3                0        16       50            21   \n",
       "\n",
       "   Arrival_Min  Duration_Hour Duration_Minute  \n",
       "0           10              2              50  \n",
       "1           15              7              25  \n",
       "2           25             19               0  \n",
       "3           30              5              25  \n",
       "4           35              4              45  "
      ]
     },
     "execution_count": 24,
     "metadata": {},
     "output_type": "execute_result"
    }
   ],
   "source": [
    "df.head()"
   ]
  },
  {
   "cell_type": "markdown",
   "id": "00341da3",
   "metadata": {
    "papermill": {
     "duration": 0.012331,
     "end_time": "2024-01-17T20:38:28.895952",
     "exception": false,
     "start_time": "2024-01-17T20:38:28.883621",
     "status": "completed"
    },
    "tags": []
   },
   "source": [
    "# EDA"
   ]
  },
  {
   "cell_type": "code",
   "execution_count": 25,
   "id": "f09216f0",
   "metadata": {
    "execution": {
     "iopub.execute_input": "2024-01-17T20:38:28.922637Z",
     "iopub.status.busy": "2024-01-17T20:38:28.922162Z",
     "iopub.status.idle": "2024-01-17T20:38:28.928551Z",
     "shell.execute_reply": "2024-01-17T20:38:28.928016Z"
    },
    "papermill": {
     "duration": 0.021509,
     "end_time": "2024-01-17T20:38:28.930004",
     "exception": false,
     "start_time": "2024-01-17T20:38:28.908495",
     "status": "completed"
    },
    "tags": []
   },
   "outputs": [
    {
     "data": {
      "text/plain": [
       "Airline\n",
       "Jet Airways                          3700\n",
       "IndiGo                               2043\n",
       "Air India                            1694\n",
       "Multiple carriers                    1196\n",
       "SpiceJet                              815\n",
       "Vistara                               478\n",
       "Air Asia                              319\n",
       "GoAir                                 194\n",
       "Multiple carriers Premium economy      13\n",
       "Jet Airways Business                    6\n",
       "Vistara Premium economy                 3\n",
       "Trujet                                  1\n",
       "Name: count, dtype: int64"
      ]
     },
     "execution_count": 25,
     "metadata": {},
     "output_type": "execute_result"
    }
   ],
   "source": [
    "# Let's Analyze Airline Column\n",
    "df['Airline'].value_counts()"
   ]
  },
  {
   "cell_type": "code",
   "execution_count": 26,
   "id": "306dcbb2",
   "metadata": {
    "execution": {
     "iopub.execute_input": "2024-01-17T20:38:28.956511Z",
     "iopub.status.busy": "2024-01-17T20:38:28.955929Z",
     "iopub.status.idle": "2024-01-17T20:38:29.505285Z",
     "shell.execute_reply": "2024-01-17T20:38:29.504445Z"
    },
    "papermill": {
     "duration": 0.564271,
     "end_time": "2024-01-17T20:38:29.506908",
     "exception": false,
     "start_time": "2024-01-17T20:38:28.942637",
     "status": "completed"
    },
    "tags": []
   },
   "outputs": [
    {
     "data": {
      "image/png": "[encoded data removed]",
      "text/plain": [
       "<Figure size 640x480 with 1 Axes>"
      ]
     },
     "metadata": {},
     "output_type": "display_data"
    }
   ],
   "source": [
    "# Average Prices of Every Airlines\n",
    "sns.barplot(x='Airline',y='Price',data=df.sort_values('Price',ascending=False))\n",
    "plt.xticks(rotation=90)\n",
    "plt.show()"
   ]
  },
  {
   "cell_type": "code",
   "execution_count": 27,
   "id": "fcbf1572",
   "metadata": {
    "execution": {
     "iopub.execute_input": "2024-01-17T20:38:29.535141Z",
     "iopub.status.busy": "2024-01-17T20:38:29.534891Z",
     "iopub.status.idle": "2024-01-17T20:38:29.541124Z",
     "shell.execute_reply": "2024-01-17T20:38:29.540316Z"
    },
    "papermill": {
     "duration": 0.021923,
     "end_time": "2024-01-17T20:38:29.542735",
     "exception": false,
     "start_time": "2024-01-17T20:38:29.520812",
     "status": "completed"
    },
    "tags": []
   },
   "outputs": [
    {
     "data": {
      "text/plain": [
       "Source\n",
       "Delhi       4345\n",
       "Kolkata     2860\n",
       "Banglore    2179\n",
       "Mumbai       697\n",
       "Chennai      381\n",
       "Name: count, dtype: int64"
      ]
     },
     "execution_count": 27,
     "metadata": {},
     "output_type": "execute_result"
    }
   ],
   "source": [
    "# Let's Analyze Source and Destination Also\n",
    "df['Source'].value_counts()"
   ]
  },
  {
   "cell_type": "code",
   "execution_count": 28,
   "id": "e05c10bf",
   "metadata": {
    "execution": {
     "iopub.execute_input": "2024-01-17T20:38:29.570571Z",
     "iopub.status.busy": "2024-01-17T20:38:29.569861Z",
     "iopub.status.idle": "2024-01-17T20:38:29.943670Z",
     "shell.execute_reply": "2024-01-17T20:38:29.942801Z"
    },
    "papermill": {
     "duration": 0.389544,
     "end_time": "2024-01-17T20:38:29.945395",
     "exception": false,
     "start_time": "2024-01-17T20:38:29.555851",
     "status": "completed"
    },
    "tags": []
   },
   "outputs": [
    {
     "data": {
      "text/plain": [
       "<Axes: xlabel='Source', ylabel='Price'>"
      ]
     },
     "execution_count": 28,
     "metadata": {},
     "output_type": "execute_result"
    },
    {
     "data": {
      "image/png": "[encoded data removed]",
      "text/plain": [
       "<Figure size 640x480 with 1 Axes>"
      ]
     },
     "metadata": {},
     "output_type": "display_data"
    }
   ],
   "source": [
    "# Average Price from every Source\n",
    "sns.barplot(x='Source',y='Price',data=df.sort_values('Price',ascending=False))"
   ]
  },
  {
   "cell_type": "code",
   "execution_count": 29,
   "id": "a8227313",
   "metadata": {
    "execution": {
     "iopub.execute_input": "2024-01-17T20:38:29.975156Z",
     "iopub.status.busy": "2024-01-17T20:38:29.974663Z",
     "iopub.status.idle": "2024-01-17T20:38:29.980607Z",
     "shell.execute_reply": "2024-01-17T20:38:29.980051Z"
    },
    "papermill": {
     "duration": 0.022245,
     "end_time": "2024-01-17T20:38:29.981951",
     "exception": false,
     "start_time": "2024-01-17T20:38:29.959706",
     "status": "completed"
    },
    "tags": []
   },
   "outputs": [
    {
     "data": {
      "text/plain": [
       "Destination\n",
       "Cochin       4345\n",
       "Banglore     2860\n",
       "Delhi        1265\n",
       "New Delhi     914\n",
       "Hyderabad     697\n",
       "Kolkata       381\n",
       "Name: count, dtype: int64"
      ]
     },
     "execution_count": 29,
     "metadata": {},
     "output_type": "execute_result"
    }
   ],
   "source": [
    "# Let's Analyze Destination Column also\n",
    "df['Destination'].value_counts()"
   ]
  },
  {
   "cell_type": "code",
   "execution_count": 30,
   "id": "ab763df2",
   "metadata": {
    "execution": {
     "iopub.execute_input": "2024-01-17T20:38:30.011252Z",
     "iopub.status.busy": "2024-01-17T20:38:30.010955Z",
     "iopub.status.idle": "2024-01-17T20:38:30.438106Z",
     "shell.execute_reply": "2024-01-17T20:38:30.437528Z"
    },
    "papermill": {
     "duration": 0.443974,
     "end_time": "2024-01-17T20:38:30.439714",
     "exception": false,
     "start_time": "2024-01-17T20:38:29.995740",
     "status": "completed"
    },
    "tags": []
   },
   "outputs": [
    {
     "data": {
      "text/plain": [
       "<Axes: xlabel='Destination', ylabel='Price'>"
      ]
     },
     "execution_count": 30,
     "metadata": {},
     "output_type": "execute_result"
    },
    {
     "data": {
      "image/png": "[encoded data removed]",
      "text/plain": [
       "<Figure size 640x480 with 1 Axes>"
      ]
     },
     "metadata": {},
     "output_type": "display_data"
    }
   ],
   "source": [
    "# We can make Visualization With Avg. Price for Destination\n",
    "sns.barplot(x='Destination',y='Price',data=df.sort_values('Price',ascending=False))"
   ]
  },
  {
   "cell_type": "code",
   "execution_count": 31,
   "id": "79b6be6b",
   "metadata": {
    "execution": {
     "iopub.execute_input": "2024-01-17T20:38:30.474856Z",
     "iopub.status.busy": "2024-01-17T20:38:30.474536Z",
     "iopub.status.idle": "2024-01-17T20:38:30.725595Z",
     "shell.execute_reply": "2024-01-17T20:38:30.724955Z"
    },
    "papermill": {
     "duration": 0.270661,
     "end_time": "2024-01-17T20:38:30.727182",
     "exception": false,
     "start_time": "2024-01-17T20:38:30.456521",
     "status": "completed"
    },
    "tags": []
   },
   "outputs": [
    {
     "data": {
      "text/plain": [
       "<Axes: xlabel='Price', ylabel='Duration_Hour'>"
      ]
     },
     "execution_count": 31,
     "metadata": {},
     "output_type": "execute_result"
    },
    {
     "data": {
      "image/png": "[encoded data removed]",
      "text/plain": [
       "<Figure size 640x480 with 1 Axes>"
      ]
     },
     "metadata": {},
     "output_type": "display_data"
    }
   ],
   "source": [
    "# Let's Analyze If Our Duration Hour is Increasing than Our Price are increasing Or Not ? \n",
    "sns.scatterplot(data=df,x='Price',y='Duration_Hour')"
   ]
  },
  {
   "cell_type": "code",
   "execution_count": 32,
   "id": "e009f9d1",
   "metadata": {
    "execution": {
     "iopub.execute_input": "2024-01-17T20:38:30.758869Z",
     "iopub.status.busy": "2024-01-17T20:38:30.758310Z",
     "iopub.status.idle": "2024-01-17T20:38:31.039181Z",
     "shell.execute_reply": "2024-01-17T20:38:31.038526Z"
    },
    "papermill": {
     "duration": 0.298316,
     "end_time": "2024-01-17T20:38:31.040923",
     "exception": false,
     "start_time": "2024-01-17T20:38:30.742607",
     "status": "completed"
    },
    "tags": []
   },
   "outputs": [
    {
     "data": {
      "text/plain": [
       "<Axes: xlabel='date_is_weekend', ylabel='Price'>"
      ]
     },
     "execution_count": 32,
     "metadata": {},
     "output_type": "execute_result"
    },
    {
     "data": {
      "image/png": "[encoded data removed]",
      "text/plain": [
       "<Figure size 640x480 with 1 Axes>"
      ]
     },
     "metadata": {},
     "output_type": "display_data"
    }
   ],
   "source": [
    "# Let's Check that Price is effected by Weekend or not ?\n",
    "sns.barplot(data=df,x='date_is_weekend',y='Price')"
   ]
  },
  {
   "cell_type": "code",
   "execution_count": 33,
   "id": "4eae277f",
   "metadata": {
    "execution": {
     "iopub.execute_input": "2024-01-17T20:38:31.078610Z",
     "iopub.status.busy": "2024-01-17T20:38:31.078008Z",
     "iopub.status.idle": "2024-01-17T20:38:31.088883Z",
     "shell.execute_reply": "2024-01-17T20:38:31.088347Z"
    },
    "papermill": {
     "duration": 0.028767,
     "end_time": "2024-01-17T20:38:31.090346",
     "exception": false,
     "start_time": "2024-01-17T20:38:31.061579",
     "status": "completed"
    },
    "tags": []
   },
   "outputs": [
    {
     "data": {
      "text/html": [
       "<div>\n",
       "<style scoped>\n",
       "    .dataframe tbody tr th:only-of-type {\n",
       "        vertical-align: middle;\n",
       "    }\n",
       "\n",
       "    .dataframe tbody tr th {\n",
       "        vertical-align: top;\n",
       "    }\n",
       "\n",
       "    .dataframe thead th {\n",
       "        text-align: right;\n",
       "    }\n",
       "</style>\n",
       "<table border=\"1\" class=\"dataframe\">\n",
       "  <thead>\n",
       "    <tr style=\"text-align: right;\">\n",
       "      <th></th>\n",
       "      <th>Airline</th>\n",
       "      <th>Source</th>\n",
       "      <th>Destination</th>\n",
       "      <th>Total_Stops</th>\n",
       "      <th>Price</th>\n",
       "      <th>journey_day</th>\n",
       "      <th>journey_month</th>\n",
       "      <th>date_is_weekend</th>\n",
       "      <th>Dep_Hour</th>\n",
       "      <th>Dep_Min</th>\n",
       "      <th>Arrival_Hour</th>\n",
       "      <th>Arrival_Min</th>\n",
       "      <th>Duration_Hour</th>\n",
       "      <th>Duration_Minute</th>\n",
       "    </tr>\n",
       "  </thead>\n",
       "  <tbody>\n",
       "    <tr>\n",
       "      <th>0</th>\n",
       "      <td>IndiGo</td>\n",
       "      <td>Banglore</td>\n",
       "      <td>New Delhi</td>\n",
       "      <td>0</td>\n",
       "      <td>3897</td>\n",
       "      <td>24</td>\n",
       "      <td>3</td>\n",
       "      <td>1</td>\n",
       "      <td>22</td>\n",
       "      <td>20</td>\n",
       "      <td>1</td>\n",
       "      <td>10</td>\n",
       "      <td>2</td>\n",
       "      <td>50</td>\n",
       "    </tr>\n",
       "    <tr>\n",
       "      <th>1</th>\n",
       "      <td>Air India</td>\n",
       "      <td>Kolkata</td>\n",
       "      <td>Banglore</td>\n",
       "      <td>2</td>\n",
       "      <td>7662</td>\n",
       "      <td>1</td>\n",
       "      <td>5</td>\n",
       "      <td>0</td>\n",
       "      <td>5</td>\n",
       "      <td>50</td>\n",
       "      <td>13</td>\n",
       "      <td>15</td>\n",
       "      <td>7</td>\n",
       "      <td>25</td>\n",
       "    </tr>\n",
       "    <tr>\n",
       "      <th>2</th>\n",
       "      <td>Jet Airways</td>\n",
       "      <td>Delhi</td>\n",
       "      <td>Cochin</td>\n",
       "      <td>2</td>\n",
       "      <td>13882</td>\n",
       "      <td>9</td>\n",
       "      <td>6</td>\n",
       "      <td>1</td>\n",
       "      <td>9</td>\n",
       "      <td>25</td>\n",
       "      <td>4</td>\n",
       "      <td>25</td>\n",
       "      <td>19</td>\n",
       "      <td>0</td>\n",
       "    </tr>\n",
       "    <tr>\n",
       "      <th>3</th>\n",
       "      <td>IndiGo</td>\n",
       "      <td>Kolkata</td>\n",
       "      <td>Banglore</td>\n",
       "      <td>1</td>\n",
       "      <td>6218</td>\n",
       "      <td>12</td>\n",
       "      <td>5</td>\n",
       "      <td>1</td>\n",
       "      <td>18</td>\n",
       "      <td>5</td>\n",
       "      <td>23</td>\n",
       "      <td>30</td>\n",
       "      <td>5</td>\n",
       "      <td>25</td>\n",
       "    </tr>\n",
       "    <tr>\n",
       "      <th>4</th>\n",
       "      <td>IndiGo</td>\n",
       "      <td>Banglore</td>\n",
       "      <td>New Delhi</td>\n",
       "      <td>1</td>\n",
       "      <td>13302</td>\n",
       "      <td>1</td>\n",
       "      <td>3</td>\n",
       "      <td>0</td>\n",
       "      <td>16</td>\n",
       "      <td>50</td>\n",
       "      <td>21</td>\n",
       "      <td>35</td>\n",
       "      <td>4</td>\n",
       "      <td>45</td>\n",
       "    </tr>\n",
       "  </tbody>\n",
       "</table>\n",
       "</div>"
      ],
      "text/plain": [
       "       Airline    Source Destination  Total_Stops  Price  journey_day  \\\n",
       "0       IndiGo  Banglore   New Delhi            0   3897           24   \n",
       "1    Air India   Kolkata    Banglore            2   7662            1   \n",
       "2  Jet Airways     Delhi      Cochin            2  13882            9   \n",
       "3       IndiGo   Kolkata    Banglore            1   6218           12   \n",
       "4       IndiGo  Banglore   New Delhi            1  13302            1   \n",
       "\n",
       "   journey_month  date_is_weekend  Dep_Hour  Dep_Min  Arrival_Hour  \\\n",
       "0              3                1        22       20             1   \n",
       "1              5                0         5       50            13   \n",
       "2              6                1         9       25             4   \n",
       "3              5                1        18        5            23   \n",
       "4              3                0        16       50            21   \n",
       "\n",
       "   Arrival_Min  Duration_Hour Duration_Minute  \n",
       "0           10              2              50  \n",
       "1           15              7              25  \n",
       "2           25             19               0  \n",
       "3           30              5              25  \n",
       "4           35              4              45  "
      ]
     },
     "execution_count": 33,
     "metadata": {},
     "output_type": "execute_result"
    }
   ],
   "source": [
    "df.head()"
   ]
  },
  {
   "cell_type": "code",
   "execution_count": 34,
   "id": "d76a678a",
   "metadata": {
    "execution": {
     "iopub.execute_input": "2024-01-17T20:38:31.123306Z",
     "iopub.status.busy": "2024-01-17T20:38:31.122884Z",
     "iopub.status.idle": "2024-01-17T20:38:31.126418Z",
     "shell.execute_reply": "2024-01-17T20:38:31.125693Z"
    },
    "papermill": {
     "duration": 0.022115,
     "end_time": "2024-01-17T20:38:31.128224",
     "exception": false,
     "start_time": "2024-01-17T20:38:31.106109",
     "status": "completed"
    },
    "tags": []
   },
   "outputs": [
    {
     "name": "stdout",
     "output_type": "stream",
     "text": [
      "(10462, 14)\n"
     ]
    }
   ],
   "source": [
    "print(df.shape)"
   ]
  },
  {
   "cell_type": "code",
   "execution_count": 35,
   "id": "e3743b93",
   "metadata": {
    "execution": {
     "iopub.execute_input": "2024-01-17T20:38:31.160842Z",
     "iopub.status.busy": "2024-01-17T20:38:31.160411Z",
     "iopub.status.idle": "2024-01-17T20:38:31.287966Z",
     "shell.execute_reply": "2024-01-17T20:38:31.287103Z"
    },
    "papermill": {
     "duration": 0.145963,
     "end_time": "2024-01-17T20:38:31.290026",
     "exception": false,
     "start_time": "2024-01-17T20:38:31.144063",
     "status": "completed"
    },
    "tags": []
   },
   "outputs": [],
   "source": [
    "# for check Outliers\n",
    "# df[(df['Airline'] == 'Air Asia') & (df['Source'] == 'Banglore') & (df['Price']>5265) & (df['Destination'] == 'Delhi')]\n",
    "\n",
    "# Function for remove ourliers\n",
    "def remove_airline_price_outliers(df):\n",
    "    df_out = pd.DataFrame()\n",
    "    for airline,airline_df in df.groupby('Airline'):\n",
    "        for source,source_df in airline_df.groupby('Source'):\n",
    "            for destination,destination_df in source_df.groupby('Destination'):\n",
    "                \n",
    "                m = np.mean(destination_df['Price'])\n",
    "                st = np.std(destination_df['Price'])\n",
    "                \n",
    "                reduced_df = destination_df[(destination_df['Price'] >=(m-st)) & (destination_df['Price'] <= (m+st))]\n",
    "                \n",
    "                df_out = pd.concat([df_out,reduced_df],ignore_index=True)\n",
    "        \n",
    "    return df_out\n",
    "        \n",
    "df2 = remove_airline_price_outliers(df)"
   ]
  },
  {
   "cell_type": "code",
   "execution_count": 36,
   "id": "6e9586a4",
   "metadata": {
    "execution": {
     "iopub.execute_input": "2024-01-17T20:38:31.323923Z",
     "iopub.status.busy": "2024-01-17T20:38:31.323642Z",
     "iopub.status.idle": "2024-01-17T20:38:31.328005Z",
     "shell.execute_reply": "2024-01-17T20:38:31.327470Z"
    },
    "papermill": {
     "duration": 0.023461,
     "end_time": "2024-01-17T20:38:31.329404",
     "exception": false,
     "start_time": "2024-01-17T20:38:31.305943",
     "status": "completed"
    },
    "tags": []
   },
   "outputs": [
    {
     "data": {
      "text/plain": [
       "((10462, 14), (7884, 14))"
      ]
     },
     "execution_count": 36,
     "metadata": {},
     "output_type": "execute_result"
    }
   ],
   "source": [
    "# Shape After Remove Outliers\n",
    "df.shape,df2.shape"
   ]
  },
  {
   "cell_type": "code",
   "execution_count": 37,
   "id": "d23a6b13",
   "metadata": {
    "execution": {
     "iopub.execute_input": "2024-01-17T20:38:31.361134Z",
     "iopub.status.busy": "2024-01-17T20:38:31.360665Z",
     "iopub.status.idle": "2024-01-17T20:38:31.370181Z",
     "shell.execute_reply": "2024-01-17T20:38:31.369283Z"
    },
    "papermill": {
     "duration": 0.02732,
     "end_time": "2024-01-17T20:38:31.371963",
     "exception": false,
     "start_time": "2024-01-17T20:38:31.344643",
     "status": "completed"
    },
    "tags": []
   },
   "outputs": [],
   "source": [
    "# Convert Airlines,Source and Destinations to Numerical Using Encoding\n",
    "dummies = pd.get_dummies(df2[['Airline','Source','Destination']],drop_first=True)"
   ]
  },
  {
   "cell_type": "code",
   "execution_count": 38,
   "id": "db4aa9a8",
   "metadata": {
    "execution": {
     "iopub.execute_input": "2024-01-17T20:38:31.404758Z",
     "iopub.status.busy": "2024-01-17T20:38:31.403982Z",
     "iopub.status.idle": "2024-01-17T20:38:31.409501Z",
     "shell.execute_reply": "2024-01-17T20:38:31.408945Z"
    },
    "papermill": {
     "duration": 0.02333,
     "end_time": "2024-01-17T20:38:31.410893",
     "exception": false,
     "start_time": "2024-01-17T20:38:31.387563",
     "status": "completed"
    },
    "tags": []
   },
   "outputs": [
    {
     "data": {
      "text/plain": [
       "['Airline',\n",
       " 'Source',\n",
       " 'Destination',\n",
       " 'Total_Stops',\n",
       " 'Price',\n",
       " 'journey_day',\n",
       " 'journey_month',\n",
       " 'date_is_weekend',\n",
       " 'Dep_Hour',\n",
       " 'Dep_Min',\n",
       " 'Arrival_Hour',\n",
       " 'Arrival_Min',\n",
       " 'Duration_Hour',\n",
       " 'Duration_Minute',\n",
       " 'Airline_Air India',\n",
       " 'Airline_GoAir',\n",
       " 'Airline_IndiGo',\n",
       " 'Airline_Jet Airways',\n",
       " 'Airline_Jet Airways Business',\n",
       " 'Airline_Multiple carriers',\n",
       " 'Airline_Multiple carriers Premium economy',\n",
       " 'Airline_SpiceJet',\n",
       " 'Airline_Trujet',\n",
       " 'Airline_Vistara',\n",
       " 'Airline_Vistara Premium economy',\n",
       " 'Source_Chennai',\n",
       " 'Source_Delhi',\n",
       " 'Source_Kolkata',\n",
       " 'Source_Mumbai',\n",
       " 'Destination_Cochin',\n",
       " 'Destination_Delhi',\n",
       " 'Destination_Hyderabad',\n",
       " 'Destination_Kolkata',\n",
       " 'Destination_New Delhi']"
      ]
     },
     "execution_count": 38,
     "metadata": {},
     "output_type": "execute_result"
    }
   ],
   "source": [
    "# fetch columns name for our final Dataset\n",
    "cols = list(df2.columns) + list(dummies.columns)\n",
    "cols"
   ]
  },
  {
   "cell_type": "code",
   "execution_count": 39,
   "id": "ce25ce97",
   "metadata": {
    "execution": {
     "iopub.execute_input": "2024-01-17T20:38:31.442803Z",
     "iopub.status.busy": "2024-01-17T20:38:31.442138Z",
     "iopub.status.idle": "2024-01-17T20:38:31.447255Z",
     "shell.execute_reply": "2024-01-17T20:38:31.446449Z"
    },
    "papermill": {
     "duration": 0.02281,
     "end_time": "2024-01-17T20:38:31.448907",
     "exception": false,
     "start_time": "2024-01-17T20:38:31.426097",
     "status": "completed"
    },
    "tags": []
   },
   "outputs": [],
   "source": [
    "# Now Concat Dummies of Categorical Variable to Real DataFrame\n",
    "df3 = pd.concat([df2,dummies],ignore_index=True,axis=1)\n",
    "df3.columns = cols"
   ]
  },
  {
   "cell_type": "code",
   "execution_count": 40,
   "id": "48f260d0",
   "metadata": {
    "execution": {
     "iopub.execute_input": "2024-01-17T20:38:31.480385Z",
     "iopub.status.busy": "2024-01-17T20:38:31.480146Z",
     "iopub.status.idle": "2024-01-17T20:38:31.486792Z",
     "shell.execute_reply": "2024-01-17T20:38:31.486020Z"
    },
    "papermill": {
     "duration": 0.024073,
     "end_time": "2024-01-17T20:38:31.488207",
     "exception": false,
     "start_time": "2024-01-17T20:38:31.464134",
     "status": "completed"
    },
    "tags": []
   },
   "outputs": [],
   "source": [
    "final_df = df3.drop(['Airline','Source','Destination'],axis=1)"
   ]
  },
  {
   "cell_type": "code",
   "execution_count": 41,
   "id": "1d0d74c3",
   "metadata": {
    "execution": {
     "iopub.execute_input": "2024-01-17T20:38:31.519819Z",
     "iopub.status.busy": "2024-01-17T20:38:31.519566Z",
     "iopub.status.idle": "2024-01-17T20:38:31.536779Z",
     "shell.execute_reply": "2024-01-17T20:38:31.536118Z"
    },
    "papermill": {
     "duration": 0.034626,
     "end_time": "2024-01-17T20:38:31.538227",
     "exception": false,
     "start_time": "2024-01-17T20:38:31.503601",
     "status": "completed"
    },
    "tags": []
   },
   "outputs": [
    {
     "data": {
      "text/html": [
       "<div>\n",
       "<style scoped>\n",
       "    .dataframe tbody tr th:only-of-type {\n",
       "        vertical-align: middle;\n",
       "    }\n",
       "\n",
       "    .dataframe tbody tr th {\n",
       "        vertical-align: top;\n",
       "    }\n",
       "\n",
       "    .dataframe thead th {\n",
       "        text-align: right;\n",
       "    }\n",
       "</style>\n",
       "<table border=\"1\" class=\"dataframe\">\n",
       "  <thead>\n",
       "    <tr style=\"text-align: right;\">\n",
       "      <th></th>\n",
       "      <th>Total_Stops</th>\n",
       "      <th>Price</th>\n",
       "      <th>journey_day</th>\n",
       "      <th>journey_month</th>\n",
       "      <th>date_is_weekend</th>\n",
       "      <th>Dep_Hour</th>\n",
       "      <th>Dep_Min</th>\n",
       "      <th>Arrival_Hour</th>\n",
       "      <th>Arrival_Min</th>\n",
       "      <th>Duration_Hour</th>\n",
       "      <th>...</th>\n",
       "      <th>Airline_Vistara Premium economy</th>\n",
       "      <th>Source_Chennai</th>\n",
       "      <th>Source_Delhi</th>\n",
       "      <th>Source_Kolkata</th>\n",
       "      <th>Source_Mumbai</th>\n",
       "      <th>Destination_Cochin</th>\n",
       "      <th>Destination_Delhi</th>\n",
       "      <th>Destination_Hyderabad</th>\n",
       "      <th>Destination_Kolkata</th>\n",
       "      <th>Destination_New Delhi</th>\n",
       "    </tr>\n",
       "  </thead>\n",
       "  <tbody>\n",
       "    <tr>\n",
       "      <th>2820</th>\n",
       "      <td>0</td>\n",
       "      <td>4804</td>\n",
       "      <td>21</td>\n",
       "      <td>6</td>\n",
       "      <td>0</td>\n",
       "      <td>20</td>\n",
       "      <td>20</td>\n",
       "      <td>22</td>\n",
       "      <td>55</td>\n",
       "      <td>2</td>\n",
       "      <td>...</td>\n",
       "      <td>False</td>\n",
       "      <td>False</td>\n",
       "      <td>False</td>\n",
       "      <td>True</td>\n",
       "      <td>False</td>\n",
       "      <td>False</td>\n",
       "      <td>False</td>\n",
       "      <td>False</td>\n",
       "      <td>False</td>\n",
       "      <td>False</td>\n",
       "    </tr>\n",
       "    <tr>\n",
       "      <th>1816</th>\n",
       "      <td>0</td>\n",
       "      <td>3943</td>\n",
       "      <td>1</td>\n",
       "      <td>6</td>\n",
       "      <td>1</td>\n",
       "      <td>10</td>\n",
       "      <td>10</td>\n",
       "      <td>13</td>\n",
       "      <td>0</td>\n",
       "      <td>2</td>\n",
       "      <td>...</td>\n",
       "      <td>False</td>\n",
       "      <td>False</td>\n",
       "      <td>False</td>\n",
       "      <td>False</td>\n",
       "      <td>False</td>\n",
       "      <td>False</td>\n",
       "      <td>True</td>\n",
       "      <td>False</td>\n",
       "      <td>False</td>\n",
       "      <td>False</td>\n",
       "    </tr>\n",
       "    <tr>\n",
       "      <th>3756</th>\n",
       "      <td>1</td>\n",
       "      <td>11087</td>\n",
       "      <td>12</td>\n",
       "      <td>3</td>\n",
       "      <td>0</td>\n",
       "      <td>18</td>\n",
       "      <td>55</td>\n",
       "      <td>16</td>\n",
       "      <td>10</td>\n",
       "      <td>21</td>\n",
       "      <td>...</td>\n",
       "      <td>False</td>\n",
       "      <td>False</td>\n",
       "      <td>False</td>\n",
       "      <td>False</td>\n",
       "      <td>False</td>\n",
       "      <td>False</td>\n",
       "      <td>False</td>\n",
       "      <td>False</td>\n",
       "      <td>False</td>\n",
       "      <td>True</td>\n",
       "    </tr>\n",
       "    <tr>\n",
       "      <th>1119</th>\n",
       "      <td>2</td>\n",
       "      <td>12324</td>\n",
       "      <td>21</td>\n",
       "      <td>5</td>\n",
       "      <td>0</td>\n",
       "      <td>8</td>\n",
       "      <td>20</td>\n",
       "      <td>20</td>\n",
       "      <td>25</td>\n",
       "      <td>12</td>\n",
       "      <td>...</td>\n",
       "      <td>False</td>\n",
       "      <td>False</td>\n",
       "      <td>False</td>\n",
       "      <td>True</td>\n",
       "      <td>False</td>\n",
       "      <td>False</td>\n",
       "      <td>False</td>\n",
       "      <td>False</td>\n",
       "      <td>False</td>\n",
       "      <td>False</td>\n",
       "    </tr>\n",
       "    <tr>\n",
       "      <th>3700</th>\n",
       "      <td>1</td>\n",
       "      <td>12284</td>\n",
       "      <td>18</td>\n",
       "      <td>3</td>\n",
       "      <td>0</td>\n",
       "      <td>8</td>\n",
       "      <td>55</td>\n",
       "      <td>16</td>\n",
       "      <td>10</td>\n",
       "      <td>7</td>\n",
       "      <td>...</td>\n",
       "      <td>False</td>\n",
       "      <td>False</td>\n",
       "      <td>False</td>\n",
       "      <td>False</td>\n",
       "      <td>False</td>\n",
       "      <td>False</td>\n",
       "      <td>False</td>\n",
       "      <td>False</td>\n",
       "      <td>False</td>\n",
       "      <td>True</td>\n",
       "    </tr>\n",
       "  </tbody>\n",
       "</table>\n",
       "<p>5 rows × 31 columns</p>\n",
       "</div>"
      ],
      "text/plain": [
       "      Total_Stops  Price  journey_day  journey_month  date_is_weekend  \\\n",
       "2820            0   4804           21              6                0   \n",
       "1816            0   3943            1              6                1   \n",
       "3756            1  11087           12              3                0   \n",
       "1119            2  12324           21              5                0   \n",
       "3700            1  12284           18              3                0   \n",
       "\n",
       "      Dep_Hour  Dep_Min  Arrival_Hour  Arrival_Min  Duration_Hour  ...  \\\n",
       "2820        20       20            22           55              2  ...   \n",
       "1816        10       10            13            0              2  ...   \n",
       "3756        18       55            16           10             21  ...   \n",
       "1119         8       20            20           25             12  ...   \n",
       "3700         8       55            16           10              7  ...   \n",
       "\n",
       "     Airline_Vistara Premium economy  Source_Chennai  Source_Delhi  \\\n",
       "2820                           False           False         False   \n",
       "1816                           False           False         False   \n",
       "3756                           False           False         False   \n",
       "1119                           False           False         False   \n",
       "3700                           False           False         False   \n",
       "\n",
       "      Source_Kolkata  Source_Mumbai  Destination_Cochin  Destination_Delhi  \\\n",
       "2820            True          False               False              False   \n",
       "1816           False          False               False               True   \n",
       "3756           False          False               False              False   \n",
       "1119            True          False               False              False   \n",
       "3700           False          False               False              False   \n",
       "\n",
       "      Destination_Hyderabad  Destination_Kolkata  Destination_New Delhi  \n",
       "2820                  False                False                  False  \n",
       "1816                  False                False                  False  \n",
       "3756                  False                False                   True  \n",
       "1119                  False                False                  False  \n",
       "3700                  False                False                   True  \n",
       "\n",
       "[5 rows x 31 columns]"
      ]
     },
     "execution_count": 41,
     "metadata": {},
     "output_type": "execute_result"
    }
   ],
   "source": [
    "final_df.sample(5)"
   ]
  },
  {
   "cell_type": "code",
   "execution_count": 42,
   "id": "23797d5c",
   "metadata": {
    "execution": {
     "iopub.execute_input": "2024-01-17T20:38:31.571100Z",
     "iopub.status.busy": "2024-01-17T20:38:31.570336Z",
     "iopub.status.idle": "2024-01-17T20:38:31.575979Z",
     "shell.execute_reply": "2024-01-17T20:38:31.574921Z"
    },
    "papermill": {
     "duration": 0.023556,
     "end_time": "2024-01-17T20:38:31.577572",
     "exception": false,
     "start_time": "2024-01-17T20:38:31.554016",
     "status": "completed"
    },
    "tags": []
   },
   "outputs": [
    {
     "data": {
      "text/plain": [
       "(7884, 31)"
      ]
     },
     "execution_count": 42,
     "metadata": {},
     "output_type": "execute_result"
    }
   ],
   "source": [
    "# Shape of Our Final Dataset\n",
    "final_df.shape"
   ]
  },
  {
   "cell_type": "code",
   "execution_count": 43,
   "id": "6eab471f",
   "metadata": {
    "execution": {
     "iopub.execute_input": "2024-01-17T20:38:31.610720Z",
     "iopub.status.busy": "2024-01-17T20:38:31.610368Z",
     "iopub.status.idle": "2024-01-17T20:38:31.634507Z",
     "shell.execute_reply": "2024-01-17T20:38:31.633759Z"
    },
    "papermill": {
     "duration": 0.042727,
     "end_time": "2024-01-17T20:38:31.636113",
     "exception": false,
     "start_time": "2024-01-17T20:38:31.593386",
     "status": "completed"
    },
    "tags": []
   },
   "outputs": [
    {
     "data": {
      "text/plain": [
       "Price                                        1.000000\n",
       "Total_Stops                                  0.687085\n",
       "Duration_Hour                                0.627066\n",
       "Airline_Jet Airways                          0.531268\n",
       "Destination_Cochin                           0.352125\n",
       "Source_Delhi                                 0.352125\n",
       "Airline_Jet Airways Business                 0.268282\n",
       "Destination_New Delhi                        0.202865\n",
       "Airline_Multiple carriers                    0.175970\n",
       "Airline_Air India                            0.096099\n",
       "Arrival_Hour                                 0.054170\n",
       "Airline_Multiple carriers Premium economy    0.020228\n",
       "Dep_Hour                                     0.014681\n",
       "Source_Kolkata                               0.009341\n",
       "Airline_Vistara Premium economy              0.002935\n",
       "date_is_weekend                              0.002811\n",
       "Airline_Trujet                              -0.012297\n",
       "journey_month                               -0.021623\n",
       "Airline_Vistara                             -0.062705\n",
       "Dep_Min                                     -0.069517\n",
       "journey_day                                 -0.085804\n",
       "Airline_GoAir                               -0.112609\n",
       "Arrival_Min                                 -0.150988\n",
       "Duration_Minute                             -0.160380\n",
       "Source_Chennai                              -0.229894\n",
       "Destination_Kolkata                         -0.229894\n",
       "Destination_Delhi                           -0.317735\n",
       "Source_Mumbai                               -0.325675\n",
       "Destination_Hyderabad                       -0.325675\n",
       "Airline_SpiceJet                            -0.361101\n",
       "Airline_IndiGo                              -0.434380\n",
       "Name: Price, dtype: float64"
      ]
     },
     "execution_count": 43,
     "metadata": {},
     "output_type": "execute_result"
    }
   ],
   "source": [
    "final_df.corr()['Price'].sort_values(ascending=False)"
   ]
  },
  {
   "cell_type": "code",
   "execution_count": 44,
   "id": "e4273ca1",
   "metadata": {
    "execution": {
     "iopub.execute_input": "2024-01-17T20:38:31.669734Z",
     "iopub.status.busy": "2024-01-17T20:38:31.669313Z",
     "iopub.status.idle": "2024-01-17T20:38:32.103748Z",
     "shell.execute_reply": "2024-01-17T20:38:32.102931Z"
    },
    "papermill": {
     "duration": 0.452873,
     "end_time": "2024-01-17T20:38:32.105423",
     "exception": false,
     "start_time": "2024-01-17T20:38:31.652550",
     "status": "completed"
    },
    "tags": []
   },
   "outputs": [
    {
     "data": {
      "image/png": "[encoded data removed]",
      "text/plain": [
       "<Figure size 640x480 with 1 Axes>"
      ]
     },
     "metadata": {},
     "output_type": "display_data"
    }
   ],
   "source": [
    "from sklearn.tree import ExtraTreeRegressor\n",
    "\n",
    "etr = ExtraTreeRegressor(splitter='best')\n",
    "\n",
    "fp = etr.fit(final_df.drop('Price',axis=1),final_df['Price'])\n",
    "\n",
    "col = pd.DataFrame(final_df.drop('Price',axis=1).columns)\n",
    "col['imp'] = fp.feature_importances_\n",
    "col.sort_values('imp',ascending=False)[:10]\n",
    "\n",
    "sns.barplot(x=col.sort_values('imp',ascending=False)[:10][0],y=col.sort_values('imp',ascending=False)[:10]['imp'],data=col)\n",
    "plt.xticks(rotation='vertical')\n",
    "plt.show()"
   ]
  },
  {
   "cell_type": "code",
   "execution_count": 45,
   "id": "b7bcf174",
   "metadata": {
    "execution": {
     "iopub.execute_input": "2024-01-17T20:38:32.139876Z",
     "iopub.status.busy": "2024-01-17T20:38:32.139583Z",
     "iopub.status.idle": "2024-01-17T20:38:32.374795Z",
     "shell.execute_reply": "2024-01-17T20:38:32.373963Z"
    },
    "papermill": {
     "duration": 0.254369,
     "end_time": "2024-01-17T20:38:32.376599",
     "exception": false,
     "start_time": "2024-01-17T20:38:32.122230",
     "status": "completed"
    },
    "tags": []
   },
   "outputs": [
    {
     "data": {
      "image/png": "[encoded data removed]",
      "text/plain": [
       "<Figure size 640x480 with 1 Axes>"
      ]
     },
     "metadata": {},
     "output_type": "display_data"
    }
   ],
   "source": [
    "from sklearn.tree import ExtraTreeRegressor\n",
    "\n",
    "etr = ExtraTreeRegressor(splitter='best')\n",
    "\n",
    "fp = etr.fit(final_df.drop('Price',axis=1),final_df['Price'])\n",
    "\n",
    "col = pd.DataFrame(final_df.drop('Price',axis=1).columns)\n",
    "col['imp'] = fp.feature_importances_\n",
    "col.sort_values('imp',ascending=False)[:10]\n",
    "\n",
    "sns.barplot(x=col.sort_values('imp',ascending=False)[:10][0],y=col.sort_values('imp',ascending=False)[:10]['imp'],data=col)\n",
    "plt.xticks(rotation='vertical')\n",
    "plt.show()"
   ]
  },
  {
   "cell_type": "code",
   "execution_count": 46,
   "id": "fd0a7444",
   "metadata": {
    "execution": {
     "iopub.execute_input": "2024-01-17T20:38:32.412861Z",
     "iopub.status.busy": "2024-01-17T20:38:32.411948Z",
     "iopub.status.idle": "2024-01-17T20:38:32.468346Z",
     "shell.execute_reply": "2024-01-17T20:38:32.467705Z"
    },
    "papermill": {
     "duration": 0.076426,
     "end_time": "2024-01-17T20:38:32.470446",
     "exception": false,
     "start_time": "2024-01-17T20:38:32.394020",
     "status": "completed"
    },
    "tags": []
   },
   "outputs": [],
   "source": [
    "# import all the model and other required libraries\n",
    "from sklearn.model_selection import train_test_split,ShuffleSplit,cross_val_score,GridSearchCV\n",
    "from sklearn.ensemble import RandomForestRegressor\n",
    "from sklearn.tree import DecisionTreeRegressor\n",
    "from sklearn.linear_model import LinearRegression\n",
    "from sklearn.svm import SVR\n",
    "from sklearn.neighbors import KNeighborsRegressor"
   ]
  },
  {
   "cell_type": "code",
   "execution_count": 47,
   "id": "8100779b",
   "metadata": {
    "execution": {
     "iopub.execute_input": "2024-01-17T20:38:32.505835Z",
     "iopub.status.busy": "2024-01-17T20:38:32.505561Z",
     "iopub.status.idle": "2024-01-17T20:38:32.510972Z",
     "shell.execute_reply": "2024-01-17T20:38:32.510179Z"
    },
    "papermill": {
     "duration": 0.024886,
     "end_time": "2024-01-17T20:38:32.512559",
     "exception": false,
     "start_time": "2024-01-17T20:38:32.487673",
     "status": "completed"
    },
    "tags": []
   },
   "outputs": [],
   "source": [
    "# Extracting Our Independent and Dependent Variables\n",
    "X = final_df.drop('Price',axis=1)\n",
    "y = final_df['Price']"
   ]
  },
  {
   "cell_type": "code",
   "execution_count": 48,
   "id": "62ba218e",
   "metadata": {
    "execution": {
     "iopub.execute_input": "2024-01-17T20:38:32.547377Z",
     "iopub.status.busy": "2024-01-17T20:38:32.546956Z",
     "iopub.status.idle": "2024-01-17T20:38:32.553121Z",
     "shell.execute_reply": "2024-01-17T20:38:32.552585Z"
    },
    "papermill": {
     "duration": 0.025106,
     "end_time": "2024-01-17T20:38:32.554538",
     "exception": false,
     "start_time": "2024-01-17T20:38:32.529432",
     "status": "completed"
    },
    "tags": []
   },
   "outputs": [],
   "source": [
    "# Train Test Split\n",
    "X_train,X_test,y_train,y_test = train_test_split(X,y,test_size=0.2,random_state=42)"
   ]
  },
  {
   "cell_type": "code",
   "execution_count": 49,
   "id": "f7e15606",
   "metadata": {
    "execution": {
     "iopub.execute_input": "2024-01-17T20:38:32.589631Z",
     "iopub.status.busy": "2024-01-17T20:38:32.588884Z",
     "iopub.status.idle": "2024-01-17T20:38:32.593290Z",
     "shell.execute_reply": "2024-01-17T20:38:32.592780Z"
    },
    "papermill": {
     "duration": 0.023187,
     "end_time": "2024-01-17T20:38:32.594656",
     "exception": false,
     "start_time": "2024-01-17T20:38:32.571469",
     "status": "completed"
    },
    "tags": []
   },
   "outputs": [
    {
     "data": {
      "text/plain": [
       "(6307, 30)"
      ]
     },
     "execution_count": 49,
     "metadata": {},
     "output_type": "execute_result"
    }
   ],
   "source": [
    "X_train.shape"
   ]
  },
  {
   "cell_type": "code",
   "execution_count": 50,
   "id": "f0665ce2",
   "metadata": {
    "execution": {
     "iopub.execute_input": "2024-01-17T20:38:32.629893Z",
     "iopub.status.busy": "2024-01-17T20:38:32.628976Z",
     "iopub.status.idle": "2024-01-17T20:38:32.636463Z",
     "shell.execute_reply": "2024-01-17T20:38:32.635921Z"
    },
    "papermill": {
     "duration": 0.026327,
     "end_time": "2024-01-17T20:38:32.638071",
     "exception": false,
     "start_time": "2024-01-17T20:38:32.611744",
     "status": "completed"
    },
    "tags": []
   },
   "outputs": [],
   "source": [
    "def find_best_model(X,y):\n",
    "    algos = {\n",
    "        'linear_regression':{\n",
    "            'model':LinearRegression(),\n",
    "            'params':{\n",
    "            }\n",
    "        },\n",
    "        'random_forest':{\n",
    "            'model':RandomForestRegressor(),\n",
    "            'params':{\n",
    "                'n_estimators':range(100,400,100),\n",
    "                'max_depth':[10,20,30,40,50],\n",
    "                # 'min_samples_split':range(2,10,2),\n",
    "                # 'min_samples_leaf':range(1,10,2)\n",
    "            }\n",
    "        },\n",
    "        'decision_tree':{\n",
    "            'model':DecisionTreeRegressor(),\n",
    "            'params':{\n",
    "                'splitter':['best','random'],\n",
    "                'max_depth':[10,20,30],\n",
    "                'min_samples_split':range(2,20,2),\n",
    "                'min_samples_leaf':range(1,10,2)\n",
    "             }\n",
    "        },\n",
    "        'Knearest_neighbour':{\n",
    "            'model':KNeighborsRegressor(),\n",
    "            'params':{\n",
    "                'n_neighbors':[1,3,5,7]\n",
    "             }\n",
    "        },\n",
    "        'SVR':{\n",
    "            'model':SVR(),\n",
    "            'params':{\n",
    "                'C':[0.1,0.5,1,1.5,2]\n",
    "             }\n",
    "        },\n",
    "        \n",
    "        \n",
    "\n",
    "    }\n",
    "    \n",
    "    scores = []\n",
    "    \n",
    "    cv = ShuffleSplit(n_splits=5,random_state=0,test_size=0.2)\n",
    "    \n",
    "    for model_name,config in algos.items():\n",
    "        gs = GridSearchCV(config['model'],config['params'],cv=cv,return_train_score=False)\n",
    "        gs.fit(X,y)\n",
    "        scores.append({\n",
    "            'Model Name':model_name,\n",
    "            'Best Score':gs.best_score_,\n",
    "            'Best Params':gs.best_params_\n",
    "        })\n",
    "        \n",
    "    return pd.DataFrame(scores)"
   ]
  },
  {
   "cell_type": "code",
   "execution_count": 51,
   "id": "881561d2",
   "metadata": {
    "execution": {
     "iopub.execute_input": "2024-01-17T20:38:32.672628Z",
     "iopub.status.busy": "2024-01-17T20:38:32.672126Z",
     "iopub.status.idle": "2024-01-17T20:44:12.552464Z",
     "shell.execute_reply": "2024-01-17T20:44:12.551848Z"
    },
    "papermill": {
     "duration": 339.916569,
     "end_time": "2024-01-17T20:44:12.571423",
     "exception": false,
     "start_time": "2024-01-17T20:38:32.654854",
     "status": "completed"
    },
    "tags": []
   },
   "outputs": [
    {
     "data": {
      "text/html": [
       "<div>\n",
       "<style scoped>\n",
       "    .dataframe tbody tr th:only-of-type {\n",
       "        vertical-align: middle;\n",
       "    }\n",
       "\n",
       "    .dataframe tbody tr th {\n",
       "        vertical-align: top;\n",
       "    }\n",
       "\n",
       "    .dataframe thead th {\n",
       "        text-align: right;\n",
       "    }\n",
       "</style>\n",
       "<table border=\"1\" class=\"dataframe\">\n",
       "  <thead>\n",
       "    <tr style=\"text-align: right;\">\n",
       "      <th></th>\n",
       "      <th>Model Name</th>\n",
       "      <th>Best Score</th>\n",
       "      <th>Best Params</th>\n",
       "    </tr>\n",
       "  </thead>\n",
       "  <tbody>\n",
       "    <tr>\n",
       "      <th>0</th>\n",
       "      <td>linear_regression</td>\n",
       "      <td>0.812899</td>\n",
       "      <td>{}</td>\n",
       "    </tr>\n",
       "    <tr>\n",
       "      <th>1</th>\n",
       "      <td>random_forest</td>\n",
       "      <td>0.860229</td>\n",
       "      <td>{'max_depth': 10, 'n_estimators': 100}</td>\n",
       "    </tr>\n",
       "    <tr>\n",
       "      <th>2</th>\n",
       "      <td>decision_tree</td>\n",
       "      <td>0.887884</td>\n",
       "      <td>{'max_depth': 30, 'min_samples_leaf': 1, 'min_...</td>\n",
       "    </tr>\n",
       "    <tr>\n",
       "      <th>3</th>\n",
       "      <td>Knearest_neighbour</td>\n",
       "      <td>0.711841</td>\n",
       "      <td>{'n_neighbors': 3}</td>\n",
       "    </tr>\n",
       "    <tr>\n",
       "      <th>4</th>\n",
       "      <td>SVR</td>\n",
       "      <td>0.059338</td>\n",
       "      <td>{'C': 2}</td>\n",
       "    </tr>\n",
       "  </tbody>\n",
       "</table>\n",
       "</div>"
      ],
      "text/plain": [
       "           Model Name  Best Score  \\\n",
       "0   linear_regression    0.812899   \n",
       "1       random_forest    0.860229   \n",
       "2       decision_tree    0.887884   \n",
       "3  Knearest_neighbour    0.711841   \n",
       "4                 SVR    0.059338   \n",
       "\n",
       "                                         Best Params  \n",
       "0                                                 {}  \n",
       "1             {'max_depth': 10, 'n_estimators': 100}  \n",
       "2  {'max_depth': 30, 'min_samples_leaf': 1, 'min_...  \n",
       "3                                 {'n_neighbors': 3}  \n",
       "4                                           {'C': 2}  "
      ]
     },
     "execution_count": 51,
     "metadata": {},
     "output_type": "execute_result"
    }
   ],
   "source": [
    "# Find best scores for all Models\n",
    "find_best_model(X,y)"
   ]
  },
  {
   "cell_type": "code",
   "execution_count": 52,
   "id": "1096e958",
   "metadata": {
    "execution": {
     "iopub.execute_input": "2024-01-17T20:44:12.607316Z",
     "iopub.status.busy": "2024-01-17T20:44:12.606597Z",
     "iopub.status.idle": "2024-01-17T20:44:12.628321Z",
     "shell.execute_reply": "2024-01-17T20:44:12.627521Z"
    },
    "papermill": {
     "duration": 0.041835,
     "end_time": "2024-01-17T20:44:12.630089",
     "exception": false,
     "start_time": "2024-01-17T20:44:12.588254",
     "status": "completed"
    },
    "tags": []
   },
   "outputs": [
    {
     "name": "stdout",
     "output_type": "stream",
     "text": [
      "0.8869861236397151\n"
     ]
    }
   ],
   "source": [
    "# Build Model\n",
    "model = DecisionTreeRegressor(max_depth=30,min_samples_leaf=1,min_samples_split=18,splitter='random') \n",
    "\n",
    "# Model Training\n",
    "model.fit(X_train,y_train)\n",
    "\n",
    "print(model.score(X_test,y_test))\n"
   ]
  },
  {
   "cell_type": "code",
   "execution_count": 53,
   "id": "6317a0b9",
   "metadata": {
    "execution": {
     "iopub.execute_input": "2024-01-17T20:44:12.666710Z",
     "iopub.status.busy": "2024-01-17T20:44:12.666254Z",
     "iopub.status.idle": "2024-01-17T20:44:12.676056Z",
     "shell.execute_reply": "2024-01-17T20:44:12.675488Z"
    },
    "papermill": {
     "duration": 0.029837,
     "end_time": "2024-01-17T20:44:12.677551",
     "exception": false,
     "start_time": "2024-01-17T20:44:12.647714",
     "status": "completed"
    },
    "tags": []
   },
   "outputs": [],
   "source": [
    "# Prediction on Train Data\n",
    "y_train_pred = model.predict(X_train)\n",
    "\n",
    "# Prediction on Test Data\n",
    "y_test_pred = model.predict(X_test)"
   ]
  },
  {
   "cell_type": "code",
   "execution_count": 54,
   "id": "659fa134",
   "metadata": {
    "execution": {
     "iopub.execute_input": "2024-01-17T20:44:12.713565Z",
     "iopub.status.busy": "2024-01-17T20:44:12.713018Z",
     "iopub.status.idle": "2024-01-17T20:44:12.717448Z",
     "shell.execute_reply": "2024-01-17T20:44:12.716906Z"
    },
    "papermill": {
     "duration": 0.023939,
     "end_time": "2024-01-17T20:44:12.718833",
     "exception": false,
     "start_time": "2024-01-17T20:44:12.694894",
     "status": "completed"
    },
    "tags": []
   },
   "outputs": [],
   "source": [
    "#Evaluate models\n",
    "\n",
    "# import Libraries\n",
    "from sklearn.metrics import r2_score,mean_squared_error,mean_absolute_error\n",
    "\n",
    "# function for model evaluation\n",
    "def model_evaluation(y_actual,y_pred):\n",
    "  r2 = r2_score(y_actual,y_pred)\n",
    "  mae = mean_absolute_error(y_actual,y_pred)\n",
    "  mse = mean_squared_error(y_actual,y_pred)\n",
    "  rmse = np.sqrt(mean_squared_error(y_actual,y_pred))\n",
    "  return pd.Series({'r2_score':r2,'mse':mse,'mae':mae,'rmse':rmse})"
   ]
  },
  {
   "cell_type": "code",
   "execution_count": 55,
   "id": "7f317af6",
   "metadata": {
    "execution": {
     "iopub.execute_input": "2024-01-17T20:44:12.754407Z",
     "iopub.status.busy": "2024-01-17T20:44:12.753896Z",
     "iopub.status.idle": "2024-01-17T20:44:12.760054Z",
     "shell.execute_reply": "2024-01-17T20:44:12.759509Z"
    },
    "papermill": {
     "duration": 0.025559,
     "end_time": "2024-01-17T20:44:12.761412",
     "exception": false,
     "start_time": "2024-01-17T20:44:12.735853",
     "status": "completed"
    },
    "tags": []
   },
   "outputs": [],
   "source": [
    "# Scores on Train Data\n",
    "train_score = model_evaluation(y_train,y_train_pred)\n",
    "\n",
    "# Scores on Test Data\n",
    "test_score = model_evaluation(y_test,y_test_pred)"
   ]
  },
  {
   "cell_type": "code",
   "execution_count": 56,
   "id": "e847b7dc",
   "metadata": {
    "execution": {
     "iopub.execute_input": "2024-01-17T20:44:12.797178Z",
     "iopub.status.busy": "2024-01-17T20:44:12.796639Z",
     "iopub.status.idle": "2024-01-17T20:44:12.805262Z",
     "shell.execute_reply": "2024-01-17T20:44:12.804525Z"
    },
    "papermill": {
     "duration": 0.028191,
     "end_time": "2024-01-17T20:44:12.806748",
     "exception": false,
     "start_time": "2024-01-17T20:44:12.778557",
     "status": "completed"
    },
    "tags": []
   },
   "outputs": [
    {
     "data": {
      "text/html": [
       "<div>\n",
       "<style scoped>\n",
       "    .dataframe tbody tr th:only-of-type {\n",
       "        vertical-align: middle;\n",
       "    }\n",
       "\n",
       "    .dataframe tbody tr th {\n",
       "        vertical-align: top;\n",
       "    }\n",
       "\n",
       "    .dataframe thead th {\n",
       "        text-align: right;\n",
       "    }\n",
       "</style>\n",
       "<table border=\"1\" class=\"dataframe\">\n",
       "  <thead>\n",
       "    <tr style=\"text-align: right;\">\n",
       "      <th></th>\n",
       "      <th>Train Data</th>\n",
       "      <th>Test Data</th>\n",
       "    </tr>\n",
       "  </thead>\n",
       "  <tbody>\n",
       "    <tr>\n",
       "      <th>r2_score</th>\n",
       "      <td>9.263311e-01</td>\n",
       "      <td>8.869861e-01</td>\n",
       "    </tr>\n",
       "    <tr>\n",
       "      <th>mse</th>\n",
       "      <td>1.133256e+06</td>\n",
       "      <td>1.560486e+06</td>\n",
       "    </tr>\n",
       "    <tr>\n",
       "      <th>mae</th>\n",
       "      <td>6.598647e+02</td>\n",
       "      <td>7.770490e+02</td>\n",
       "    </tr>\n",
       "    <tr>\n",
       "      <th>rmse</th>\n",
       "      <td>1.064545e+03</td>\n",
       "      <td>1.249194e+03</td>\n",
       "    </tr>\n",
       "  </tbody>\n",
       "</table>\n",
       "</div>"
      ],
      "text/plain": [
       "            Train Data     Test Data\n",
       "r2_score  9.263311e-01  8.869861e-01\n",
       "mse       1.133256e+06  1.560486e+06\n",
       "mae       6.598647e+02  7.770490e+02\n",
       "rmse      1.064545e+03  1.249194e+03"
      ]
     },
     "execution_count": 56,
     "metadata": {},
     "output_type": "execute_result"
    }
   ],
   "source": [
    "# Making Scorecard of Train and Test Data\n",
    "scorecard = pd.concat([train_score,test_score],axis=1)\n",
    "scorecard.columns = ['Train Data','Test Data']\n",
    "scorecard"
   ]
  },
  {
   "cell_type": "code",
   "execution_count": 57,
   "id": "65ed55ca",
   "metadata": {
    "execution": {
     "iopub.execute_input": "2024-01-17T20:44:12.842962Z",
     "iopub.status.busy": "2024-01-17T20:44:12.842446Z",
     "iopub.status.idle": "2024-01-17T20:44:13.015511Z",
     "shell.execute_reply": "2024-01-17T20:44:13.014688Z"
    },
    "papermill": {
     "duration": 0.193219,
     "end_time": "2024-01-17T20:44:13.017226",
     "exception": false,
     "start_time": "2024-01-17T20:44:12.824007",
     "status": "completed"
    },
    "tags": []
   },
   "outputs": [
    {
     "data": {
      "text/plain": [
       "0.8781421978691084"
      ]
     },
     "execution_count": 57,
     "metadata": {},
     "output_type": "execute_result"
    }
   ],
   "source": [
    "# Crossvalidation of Entire Dataset\n",
    "\n",
    "# Making 10 Folds of Our Data and Taking Test Size of 20%\n",
    "cv = ShuffleSplit(n_splits=10,test_size=0.2,random_state=42)\n",
    "\n",
    "# Applying Cross Validation\n",
    "cross_val_score(model,X,y,scoring='r2',cv=cv).mean()"
   ]
  },
  {
   "cell_type": "code",
   "execution_count": null,
   "id": "cfedc329",
   "metadata": {
    "papermill": {
     "duration": 0.016825,
     "end_time": "2024-01-17T20:44:13.051722",
     "exception": false,
     "start_time": "2024-01-17T20:44:13.034897",
     "status": "completed"
    },
    "tags": []
   },
   "outputs": [],
   "source": []
  }
 ],
 "metadata": {
  "kaggle": {
   "accelerator": "none",
   "dataSources": [
    {
     "datasetId": 2508515,
     "sourceId": 4257001,
     "sourceType": "datasetVersion"
    }
   ],
   "dockerImageVersionId": 30635,
   "isGpuEnabled": false,
   "isInternetEnabled": false,
   "language": "python",
   "sourceType": "notebook"
  },
  "kernelspec": {
   "display_name": "Python 3",
   "language": "python",
   "name": "python3"
  },
  "language_info": {
   "codemirror_mode": {
    "name": "ipython",
    "version": 3
   },
   "file_extension": ".py",
   "mimetype": "text/x-python",
   "name": "python",
   "nbconvert_exporter": "python",
   "pygments_lexer": "ipython3",
   "version": "3.10.12"
  },
  "papermill": {
   "default_parameters": {},
   "duration": 352.601093,
   "end_time": "2024-01-17T20:44:13.587840",
   "environment_variables": {},
   "exception": null,
   "input_path": "__notebook__.ipynb",
   "output_path": "__notebook__.ipynb",
   "parameters": {},
   "start_time": "2024-01-17T20:38:20.986747",
   "version": "2.4.0"
  }
 },
 "nbformat": 4,
 "nbformat_minor": 5
}
